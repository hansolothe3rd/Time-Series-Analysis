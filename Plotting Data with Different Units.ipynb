{
 "cells": [
  {
   "cell_type": "markdown",
   "id": "ffb4ccf4",
   "metadata": {},
   "source": [
    "# Plotting Data with Different Units\n"
   ]
  },
  {
   "cell_type": "markdown",
   "id": "16584bf7",
   "metadata": {},
   "source": [
    "In the previous lesson, we wanted to explore Covid cases by state, but our previous data did not provide sufficient detail. We will start this lesson with a different data set for our analysis. Our goal will be to visualize both cases and deaths on one plot for a given state.\n",
    "\n",
    "## Kaggle: US County JHU Data\n",
    "Download the covid_us_county.csv from Kaggle and upload it to your Jupyter notebook."
   ]
  },
  {
   "cell_type": "code",
   "execution_count": 1,
   "id": "e030812c",
   "metadata": {},
   "outputs": [],
   "source": [
    "import pandas as pd\n",
    "import numpy as np\n",
    "import matplotlib as mpl\n",
    "import matplotlib.pyplot as plt\n",
    "import seaborn as sns\n",
    "import os\n",
    "# set random seed\n",
    "SEED = 321\n",
    "np.random.seed(SEED)"
   ]
  },
  {
   "cell_type": "code",
   "execution_count": 2,
   "id": "fd65bc70",
   "metadata": {},
   "outputs": [
    {
     "name": "stderr",
     "output_type": "stream",
     "text": [
      "/var/folders/l7/w6kg6nmd3dgfd2wj06wwdb1c0000gn/T/ipykernel_55725/264566318.py:1: DtypeWarning: Columns (59) have mixed types. Specify dtype option on import or set low_memory=False.\n",
      "  df = pd.read_csv(\"/Users/danielbarella/Downloads/covid_us_county.csv\")\n"
     ]
    },
    {
     "data": {
      "text/html": [
       "<div>\n",
       "<style scoped>\n",
       "    .dataframe tbody tr th:only-of-type {\n",
       "        vertical-align: middle;\n",
       "    }\n",
       "\n",
       "    .dataframe tbody tr th {\n",
       "        vertical-align: top;\n",
       "    }\n",
       "\n",
       "    .dataframe thead th {\n",
       "        text-align: right;\n",
       "    }\n",
       "</style>\n",
       "<table border=\"1\" class=\"dataframe\">\n",
       "  <thead>\n",
       "    <tr style=\"text-align: right;\">\n",
       "      <th></th>\n",
       "      <th>fips</th>\n",
       "      <th>county</th>\n",
       "      <th>state</th>\n",
       "      <th>lat</th>\n",
       "      <th>long</th>\n",
       "      <th>1/1/23</th>\n",
       "      <th>1/2/23</th>\n",
       "      <th>1/3/23</th>\n",
       "      <th>1/4/23</th>\n",
       "      <th>1/5/23</th>\n",
       "      <th>...</th>\n",
       "      <th>2/19/23</th>\n",
       "      <th>2/23/23</th>\n",
       "      <th>2/24/23</th>\n",
       "      <th>2/25/23</th>\n",
       "      <th>2/26/23</th>\n",
       "      <th>2/27/23</th>\n",
       "      <th>date</th>\n",
       "      <th>cases</th>\n",
       "      <th>state_code</th>\n",
       "      <th>deaths</th>\n",
       "    </tr>\n",
       "  </thead>\n",
       "  <tbody>\n",
       "    <tr>\n",
       "      <th>0</th>\n",
       "      <td>1001.0</td>\n",
       "      <td>Autauga</td>\n",
       "      <td>Alabama</td>\n",
       "      <td>32.539527</td>\n",
       "      <td>-86.644082</td>\n",
       "      <td>18961</td>\n",
       "      <td>18961</td>\n",
       "      <td>18961</td>\n",
       "      <td>19205</td>\n",
       "      <td>19205</td>\n",
       "      <td>...</td>\n",
       "      <td>19686</td>\n",
       "      <td>19732</td>\n",
       "      <td>19732</td>\n",
       "      <td>19732</td>\n",
       "      <td>19732</td>\n",
       "      <td>19732</td>\n",
       "      <td>2020-01-22</td>\n",
       "      <td>0</td>\n",
       "      <td>AL</td>\n",
       "      <td>0</td>\n",
       "    </tr>\n",
       "    <tr>\n",
       "      <th>1</th>\n",
       "      <td>1001.0</td>\n",
       "      <td>Autauga</td>\n",
       "      <td>Alabama</td>\n",
       "      <td>32.539527</td>\n",
       "      <td>-86.644082</td>\n",
       "      <td>18961</td>\n",
       "      <td>18961</td>\n",
       "      <td>18961</td>\n",
       "      <td>19205</td>\n",
       "      <td>19205</td>\n",
       "      <td>...</td>\n",
       "      <td>19686</td>\n",
       "      <td>19732</td>\n",
       "      <td>19732</td>\n",
       "      <td>19732</td>\n",
       "      <td>19732</td>\n",
       "      <td>19732</td>\n",
       "      <td>2020-01-23</td>\n",
       "      <td>0</td>\n",
       "      <td>AL</td>\n",
       "      <td>0</td>\n",
       "    </tr>\n",
       "    <tr>\n",
       "      <th>2</th>\n",
       "      <td>1001.0</td>\n",
       "      <td>Autauga</td>\n",
       "      <td>Alabama</td>\n",
       "      <td>32.539527</td>\n",
       "      <td>-86.644082</td>\n",
       "      <td>18961</td>\n",
       "      <td>18961</td>\n",
       "      <td>18961</td>\n",
       "      <td>19205</td>\n",
       "      <td>19205</td>\n",
       "      <td>...</td>\n",
       "      <td>19686</td>\n",
       "      <td>19732</td>\n",
       "      <td>19732</td>\n",
       "      <td>19732</td>\n",
       "      <td>19732</td>\n",
       "      <td>19732</td>\n",
       "      <td>2020-01-24</td>\n",
       "      <td>0</td>\n",
       "      <td>AL</td>\n",
       "      <td>0</td>\n",
       "    </tr>\n",
       "    <tr>\n",
       "      <th>3</th>\n",
       "      <td>1001.0</td>\n",
       "      <td>Autauga</td>\n",
       "      <td>Alabama</td>\n",
       "      <td>32.539527</td>\n",
       "      <td>-86.644082</td>\n",
       "      <td>18961</td>\n",
       "      <td>18961</td>\n",
       "      <td>18961</td>\n",
       "      <td>19205</td>\n",
       "      <td>19205</td>\n",
       "      <td>...</td>\n",
       "      <td>19686</td>\n",
       "      <td>19732</td>\n",
       "      <td>19732</td>\n",
       "      <td>19732</td>\n",
       "      <td>19732</td>\n",
       "      <td>19732</td>\n",
       "      <td>2020-01-25</td>\n",
       "      <td>0</td>\n",
       "      <td>AL</td>\n",
       "      <td>0</td>\n",
       "    </tr>\n",
       "    <tr>\n",
       "      <th>4</th>\n",
       "      <td>1001.0</td>\n",
       "      <td>Autauga</td>\n",
       "      <td>Alabama</td>\n",
       "      <td>32.539527</td>\n",
       "      <td>-86.644082</td>\n",
       "      <td>18961</td>\n",
       "      <td>18961</td>\n",
       "      <td>18961</td>\n",
       "      <td>19205</td>\n",
       "      <td>19205</td>\n",
       "      <td>...</td>\n",
       "      <td>19686</td>\n",
       "      <td>19732</td>\n",
       "      <td>19732</td>\n",
       "      <td>19732</td>\n",
       "      <td>19732</td>\n",
       "      <td>19732</td>\n",
       "      <td>2020-01-26</td>\n",
       "      <td>0</td>\n",
       "      <td>AL</td>\n",
       "      <td>0</td>\n",
       "    </tr>\n",
       "  </tbody>\n",
       "</table>\n",
       "<p>5 rows × 61 columns</p>\n",
       "</div>"
      ],
      "text/plain": [
       "     fips   county    state        lat       long  1/1/23  1/2/23  1/3/23  \\\n",
       "0  1001.0  Autauga  Alabama  32.539527 -86.644082   18961   18961   18961   \n",
       "1  1001.0  Autauga  Alabama  32.539527 -86.644082   18961   18961   18961   \n",
       "2  1001.0  Autauga  Alabama  32.539527 -86.644082   18961   18961   18961   \n",
       "3  1001.0  Autauga  Alabama  32.539527 -86.644082   18961   18961   18961   \n",
       "4  1001.0  Autauga  Alabama  32.539527 -86.644082   18961   18961   18961   \n",
       "\n",
       "   1/4/23  1/5/23  ...  2/19/23  2/23/23  2/24/23  2/25/23  2/26/23  2/27/23  \\\n",
       "0   19205   19205  ...    19686    19732    19732    19732    19732    19732   \n",
       "1   19205   19205  ...    19686    19732    19732    19732    19732    19732   \n",
       "2   19205   19205  ...    19686    19732    19732    19732    19732    19732   \n",
       "3   19205   19205  ...    19686    19732    19732    19732    19732    19732   \n",
       "4   19205   19205  ...    19686    19732    19732    19732    19732    19732   \n",
       "\n",
       "         date  cases  state_code  deaths  \n",
       "0  2020-01-22      0          AL       0  \n",
       "1  2020-01-23      0          AL       0  \n",
       "2  2020-01-24      0          AL       0  \n",
       "3  2020-01-25      0          AL       0  \n",
       "4  2020-01-26      0          AL       0  \n",
       "\n",
       "[5 rows x 61 columns]"
      ]
     },
     "metadata": {},
     "output_type": "display_data"
    },
    {
     "data": {
      "text/plain": [
       "<bound method DataFrame.info of             fips   county    state        lat        long  1/1/23  1/2/23  \\\n",
       "0         1001.0  Autauga  Alabama  32.539527  -86.644082   18961   18961   \n",
       "1         1001.0  Autauga  Alabama  32.539527  -86.644082   18961   18961   \n",
       "2         1001.0  Autauga  Alabama  32.539527  -86.644082   18961   18961   \n",
       "3         1001.0  Autauga  Alabama  32.539527  -86.644082   18961   18961   \n",
       "4         1001.0  Autauga  Alabama  32.539527  -86.644082   18961   18961   \n",
       "...          ...      ...      ...        ...         ...     ...     ...   \n",
       "3612697  56045.0   Weston  Wyoming  43.839612 -104.567488    1880    1880   \n",
       "3612698  56045.0   Weston  Wyoming  43.839612 -104.567488    1880    1880   \n",
       "3612699  56045.0   Weston  Wyoming  43.839612 -104.567488    1880    1880   \n",
       "3612700  56045.0   Weston  Wyoming  43.839612 -104.567488    1880    1880   \n",
       "3612701  56045.0   Weston  Wyoming  43.839612 -104.567488    1880    1880   \n",
       "\n",
       "         1/3/23  1/4/23  1/5/23  ...  2/19/23  2/23/23  2/24/23  2/25/23  \\\n",
       "0         18961   19205   19205  ...    19686    19732    19732    19732   \n",
       "1         18961   19205   19205  ...    19686    19732    19732    19732   \n",
       "2         18961   19205   19205  ...    19686    19732    19732    19732   \n",
       "3         18961   19205   19205  ...    19686    19732    19732    19732   \n",
       "4         18961   19205   19205  ...    19686    19732    19732    19732   \n",
       "...         ...     ...     ...  ...      ...      ...      ...      ...   \n",
       "3612697    1880    1880    1880  ...     1897     1903     1903     1903   \n",
       "3612698    1880    1880    1880  ...     1897     1903     1903     1903   \n",
       "3612699    1880    1880    1880  ...     1897     1903     1903     1903   \n",
       "3612700    1880    1880    1880  ...     1897     1903     1903     1903   \n",
       "3612701    1880    1880    1880  ...     1897     1903     1903     1903   \n",
       "\n",
       "         2/26/23  2/27/23        date  cases  state_code  deaths  \n",
       "0          19732    19732  2020-01-22      0          AL       0  \n",
       "1          19732    19732  2020-01-23      0          AL       0  \n",
       "2          19732    19732  2020-01-24      0          AL       0  \n",
       "3          19732    19732  2020-01-25      0          AL       0  \n",
       "4          19732    19732  2020-01-26      0          AL       0  \n",
       "...          ...      ...         ...    ...         ...     ...  \n",
       "3612697     1903     1903  2022-12-29   1880          WY      22  \n",
       "3612698     1903     1903  2022-12-30   1880          WY      22  \n",
       "3612699     1903     1903  2022-12-31   1880          WY      22  \n",
       "3612700     1903     1903  2023-01-22   1884          WY      22  \n",
       "3612701     1903     1903  2023-02-22   1903          WY      23  \n",
       "\n",
       "[3612702 rows x 61 columns]>"
      ]
     },
     "execution_count": 2,
     "metadata": {},
     "output_type": "execute_result"
    }
   ],
   "source": [
    "df = pd.read_csv(\"/Users/danielbarella/Downloads/covid_us_county.csv\")\n",
    "display(df.head())\n",
    "#df.info"
   ]
  },
  {
   "cell_type": "code",
   "execution_count": 3,
   "id": "248f56ee",
   "metadata": {},
   "outputs": [
    {
     "data": {
      "text/plain": [
       "Index(['fips', 'county', 'state', 'lat', 'long', '1/1/23', '1/2/23', '1/3/23',\n",
       "       '1/4/23', '1/5/23', '1/6/23', '1/7/23', '1/8/23', '1/9/23', '1/10/23',\n",
       "       '1/11/23', '1/12/23', '1/13/23', '1/14/23', '1/15/23', '1/16/23',\n",
       "       '1/17/23', '1/18/23', '1/19/23', '1/23/23', '1/24/23', '1/25/23',\n",
       "       '1/26/23', '1/27/23', '1/28/23', '1/29/23', '1/30/23', '1/31/23',\n",
       "       '2/1/23', '2/2/23', '2/3/23', '2/4/23', '2/5/23', '2/6/23', '2/7/23',\n",
       "       '2/8/23', '2/9/23', '2/10/23', '2/11/23', '2/12/23', '2/13/23',\n",
       "       '2/14/23', '2/15/23', '2/16/23', '2/17/23', '2/18/23', '2/19/23',\n",
       "       '2/23/23', '2/24/23', '2/25/23', '2/26/23', '2/27/23', 'date', 'cases',\n",
       "       'state_code', 'deaths'],\n",
       "      dtype='object')"
      ]
     },
     "execution_count": 3,
     "metadata": {},
     "output_type": "execute_result"
    }
   ],
   "source": [
    "df.columns\n"
   ]
  },
  {
   "cell_type": "code",
   "execution_count": 4,
   "id": "b533a708",
   "metadata": {},
   "outputs": [
    {
     "data": {
      "text/plain": [
       "array(['AL', 'AK', nan, 'AZ', 'AR', 'CA', 'CO', 'CT', 'DE', 'FL', 'GA',\n",
       "       'HI', 'ID', 'IL', 'IN', 'IA', 'KS', 'KY', 'LA', 'ME', 'MD', 'MA',\n",
       "       'MI', 'MN', 'MS', 'MO', 'MT', 'NE', 'NV', 'NH', 'NJ', 'NM', 'NY',\n",
       "       'NC', 'ND', 'OH', 'OK', 'OR', 'PA', 'RI', 'SC', 'SD', 'TN', 'TX',\n",
       "       'UT', 'VT', 'VA', 'WA', 'WV', 'WI', 'WY'], dtype=object)"
      ]
     },
     "execution_count": 4,
     "metadata": {},
     "output_type": "execute_result"
    }
   ],
   "source": [
    "df['state_code'].unique()"
   ]
  },
  {
   "cell_type": "markdown",
   "id": "95523c5e",
   "metadata": {},
   "source": [
    "Why is there a null value (nan) in state_code?\n"
   ]
  },
  {
   "cell_type": "code",
   "execution_count": 5,
   "id": "bcd29ba7",
   "metadata": {},
   "outputs": [
    {
     "data": {
      "text/html": [
       "<div>\n",
       "<style scoped>\n",
       "    .dataframe tbody tr th:only-of-type {\n",
       "        vertical-align: middle;\n",
       "    }\n",
       "\n",
       "    .dataframe tbody tr th {\n",
       "        vertical-align: top;\n",
       "    }\n",
       "\n",
       "    .dataframe thead th {\n",
       "        text-align: right;\n",
       "    }\n",
       "</style>\n",
       "<table border=\"1\" class=\"dataframe\">\n",
       "  <thead>\n",
       "    <tr style=\"text-align: right;\">\n",
       "      <th></th>\n",
       "      <th>fips</th>\n",
       "      <th>county</th>\n",
       "      <th>state</th>\n",
       "      <th>lat</th>\n",
       "      <th>long</th>\n",
       "      <th>1/1/23</th>\n",
       "      <th>1/2/23</th>\n",
       "      <th>1/3/23</th>\n",
       "      <th>1/4/23</th>\n",
       "      <th>1/5/23</th>\n",
       "      <th>...</th>\n",
       "      <th>2/19/23</th>\n",
       "      <th>2/23/23</th>\n",
       "      <th>2/24/23</th>\n",
       "      <th>2/25/23</th>\n",
       "      <th>2/26/23</th>\n",
       "      <th>2/27/23</th>\n",
       "      <th>date</th>\n",
       "      <th>cases</th>\n",
       "      <th>state_code</th>\n",
       "      <th>deaths</th>\n",
       "    </tr>\n",
       "  </thead>\n",
       "  <tbody>\n",
       "    <tr>\n",
       "      <th>110262</th>\n",
       "      <td>60.0</td>\n",
       "      <td>NaN</td>\n",
       "      <td>American Samoa</td>\n",
       "      <td>-14.2710</td>\n",
       "      <td>-170.1320</td>\n",
       "      <td>8266</td>\n",
       "      <td>8266</td>\n",
       "      <td>8266</td>\n",
       "      <td>8266</td>\n",
       "      <td>8285</td>\n",
       "      <td>...</td>\n",
       "      <td>8320</td>\n",
       "      <td>8320</td>\n",
       "      <td>8320</td>\n",
       "      <td>8320</td>\n",
       "      <td>8320</td>\n",
       "      <td>8320</td>\n",
       "      <td>2020-01-22</td>\n",
       "      <td>0</td>\n",
       "      <td>NaN</td>\n",
       "      <td>0</td>\n",
       "    </tr>\n",
       "    <tr>\n",
       "      <th>110263</th>\n",
       "      <td>60.0</td>\n",
       "      <td>NaN</td>\n",
       "      <td>American Samoa</td>\n",
       "      <td>-14.2710</td>\n",
       "      <td>-170.1320</td>\n",
       "      <td>8266</td>\n",
       "      <td>8266</td>\n",
       "      <td>8266</td>\n",
       "      <td>8266</td>\n",
       "      <td>8285</td>\n",
       "      <td>...</td>\n",
       "      <td>8320</td>\n",
       "      <td>8320</td>\n",
       "      <td>8320</td>\n",
       "      <td>8320</td>\n",
       "      <td>8320</td>\n",
       "      <td>8320</td>\n",
       "      <td>2020-01-23</td>\n",
       "      <td>0</td>\n",
       "      <td>NaN</td>\n",
       "      <td>0</td>\n",
       "    </tr>\n",
       "    <tr>\n",
       "      <th>110264</th>\n",
       "      <td>60.0</td>\n",
       "      <td>NaN</td>\n",
       "      <td>American Samoa</td>\n",
       "      <td>-14.2710</td>\n",
       "      <td>-170.1320</td>\n",
       "      <td>8266</td>\n",
       "      <td>8266</td>\n",
       "      <td>8266</td>\n",
       "      <td>8266</td>\n",
       "      <td>8285</td>\n",
       "      <td>...</td>\n",
       "      <td>8320</td>\n",
       "      <td>8320</td>\n",
       "      <td>8320</td>\n",
       "      <td>8320</td>\n",
       "      <td>8320</td>\n",
       "      <td>8320</td>\n",
       "      <td>2020-01-24</td>\n",
       "      <td>0</td>\n",
       "      <td>NaN</td>\n",
       "      <td>0</td>\n",
       "    </tr>\n",
       "    <tr>\n",
       "      <th>110265</th>\n",
       "      <td>60.0</td>\n",
       "      <td>NaN</td>\n",
       "      <td>American Samoa</td>\n",
       "      <td>-14.2710</td>\n",
       "      <td>-170.1320</td>\n",
       "      <td>8266</td>\n",
       "      <td>8266</td>\n",
       "      <td>8266</td>\n",
       "      <td>8266</td>\n",
       "      <td>8285</td>\n",
       "      <td>...</td>\n",
       "      <td>8320</td>\n",
       "      <td>8320</td>\n",
       "      <td>8320</td>\n",
       "      <td>8320</td>\n",
       "      <td>8320</td>\n",
       "      <td>8320</td>\n",
       "      <td>2020-01-25</td>\n",
       "      <td>0</td>\n",
       "      <td>NaN</td>\n",
       "      <td>0</td>\n",
       "    </tr>\n",
       "    <tr>\n",
       "      <th>110266</th>\n",
       "      <td>60.0</td>\n",
       "      <td>NaN</td>\n",
       "      <td>American Samoa</td>\n",
       "      <td>-14.2710</td>\n",
       "      <td>-170.1320</td>\n",
       "      <td>8266</td>\n",
       "      <td>8266</td>\n",
       "      <td>8266</td>\n",
       "      <td>8266</td>\n",
       "      <td>8285</td>\n",
       "      <td>...</td>\n",
       "      <td>8320</td>\n",
       "      <td>8320</td>\n",
       "      <td>8320</td>\n",
       "      <td>8320</td>\n",
       "      <td>8320</td>\n",
       "      <td>8320</td>\n",
       "      <td>2020-01-26</td>\n",
       "      <td>0</td>\n",
       "      <td>NaN</td>\n",
       "      <td>0</td>\n",
       "    </tr>\n",
       "    <tr>\n",
       "      <th>...</th>\n",
       "      <td>...</td>\n",
       "      <td>...</td>\n",
       "      <td>...</td>\n",
       "      <td>...</td>\n",
       "      <td>...</td>\n",
       "      <td>...</td>\n",
       "      <td>...</td>\n",
       "      <td>...</td>\n",
       "      <td>...</td>\n",
       "      <td>...</td>\n",
       "      <td>...</td>\n",
       "      <td>...</td>\n",
       "      <td>...</td>\n",
       "      <td>...</td>\n",
       "      <td>...</td>\n",
       "      <td>...</td>\n",
       "      <td>...</td>\n",
       "      <td>...</td>\n",
       "      <td>...</td>\n",
       "      <td>...</td>\n",
       "      <td>...</td>\n",
       "    </tr>\n",
       "    <tr>\n",
       "      <th>3253805</th>\n",
       "      <td>78.0</td>\n",
       "      <td>NaN</td>\n",
       "      <td>Virgin Islands</td>\n",
       "      <td>18.3358</td>\n",
       "      <td>-64.8963</td>\n",
       "      <td>23781</td>\n",
       "      <td>23781</td>\n",
       "      <td>23781</td>\n",
       "      <td>23820</td>\n",
       "      <td>23831</td>\n",
       "      <td>...</td>\n",
       "      <td>24705</td>\n",
       "      <td>24756</td>\n",
       "      <td>24757</td>\n",
       "      <td>24757</td>\n",
       "      <td>24757</td>\n",
       "      <td>24764</td>\n",
       "      <td>2022-12-29</td>\n",
       "      <td>23769</td>\n",
       "      <td>NaN</td>\n",
       "      <td>127</td>\n",
       "    </tr>\n",
       "    <tr>\n",
       "      <th>3253806</th>\n",
       "      <td>78.0</td>\n",
       "      <td>NaN</td>\n",
       "      <td>Virgin Islands</td>\n",
       "      <td>18.3358</td>\n",
       "      <td>-64.8963</td>\n",
       "      <td>23781</td>\n",
       "      <td>23781</td>\n",
       "      <td>23781</td>\n",
       "      <td>23820</td>\n",
       "      <td>23831</td>\n",
       "      <td>...</td>\n",
       "      <td>24705</td>\n",
       "      <td>24756</td>\n",
       "      <td>24757</td>\n",
       "      <td>24757</td>\n",
       "      <td>24757</td>\n",
       "      <td>24764</td>\n",
       "      <td>2022-12-30</td>\n",
       "      <td>23781</td>\n",
       "      <td>NaN</td>\n",
       "      <td>127</td>\n",
       "    </tr>\n",
       "    <tr>\n",
       "      <th>3253807</th>\n",
       "      <td>78.0</td>\n",
       "      <td>NaN</td>\n",
       "      <td>Virgin Islands</td>\n",
       "      <td>18.3358</td>\n",
       "      <td>-64.8963</td>\n",
       "      <td>23781</td>\n",
       "      <td>23781</td>\n",
       "      <td>23781</td>\n",
       "      <td>23820</td>\n",
       "      <td>23831</td>\n",
       "      <td>...</td>\n",
       "      <td>24705</td>\n",
       "      <td>24756</td>\n",
       "      <td>24757</td>\n",
       "      <td>24757</td>\n",
       "      <td>24757</td>\n",
       "      <td>24764</td>\n",
       "      <td>2022-12-31</td>\n",
       "      <td>23781</td>\n",
       "      <td>NaN</td>\n",
       "      <td>127</td>\n",
       "    </tr>\n",
       "    <tr>\n",
       "      <th>3253808</th>\n",
       "      <td>78.0</td>\n",
       "      <td>NaN</td>\n",
       "      <td>Virgin Islands</td>\n",
       "      <td>18.3358</td>\n",
       "      <td>-64.8963</td>\n",
       "      <td>23781</td>\n",
       "      <td>23781</td>\n",
       "      <td>23781</td>\n",
       "      <td>23820</td>\n",
       "      <td>23831</td>\n",
       "      <td>...</td>\n",
       "      <td>24705</td>\n",
       "      <td>24756</td>\n",
       "      <td>24757</td>\n",
       "      <td>24757</td>\n",
       "      <td>24757</td>\n",
       "      <td>24764</td>\n",
       "      <td>2023-01-22</td>\n",
       "      <td>24269</td>\n",
       "      <td>NaN</td>\n",
       "      <td>129</td>\n",
       "    </tr>\n",
       "    <tr>\n",
       "      <th>3253809</th>\n",
       "      <td>78.0</td>\n",
       "      <td>NaN</td>\n",
       "      <td>Virgin Islands</td>\n",
       "      <td>18.3358</td>\n",
       "      <td>-64.8963</td>\n",
       "      <td>23781</td>\n",
       "      <td>23781</td>\n",
       "      <td>23781</td>\n",
       "      <td>23820</td>\n",
       "      <td>23831</td>\n",
       "      <td>...</td>\n",
       "      <td>24705</td>\n",
       "      <td>24756</td>\n",
       "      <td>24757</td>\n",
       "      <td>24757</td>\n",
       "      <td>24757</td>\n",
       "      <td>24764</td>\n",
       "      <td>2023-02-22</td>\n",
       "      <td>24741</td>\n",
       "      <td>NaN</td>\n",
       "      <td>130</td>\n",
       "    </tr>\n",
       "  </tbody>\n",
       "</table>\n",
       "<p>96209 rows × 61 columns</p>\n",
       "</div>"
      ],
      "text/plain": [
       "         fips county           state      lat      long  1/1/23  1/2/23  \\\n",
       "110262   60.0    NaN  American Samoa -14.2710 -170.1320    8266    8266   \n",
       "110263   60.0    NaN  American Samoa -14.2710 -170.1320    8266    8266   \n",
       "110264   60.0    NaN  American Samoa -14.2710 -170.1320    8266    8266   \n",
       "110265   60.0    NaN  American Samoa -14.2710 -170.1320    8266    8266   \n",
       "110266   60.0    NaN  American Samoa -14.2710 -170.1320    8266    8266   \n",
       "...       ...    ...             ...      ...       ...     ...     ...   \n",
       "3253805  78.0    NaN  Virgin Islands  18.3358  -64.8963   23781   23781   \n",
       "3253806  78.0    NaN  Virgin Islands  18.3358  -64.8963   23781   23781   \n",
       "3253807  78.0    NaN  Virgin Islands  18.3358  -64.8963   23781   23781   \n",
       "3253808  78.0    NaN  Virgin Islands  18.3358  -64.8963   23781   23781   \n",
       "3253809  78.0    NaN  Virgin Islands  18.3358  -64.8963   23781   23781   \n",
       "\n",
       "         1/3/23  1/4/23  1/5/23  ...  2/19/23  2/23/23  2/24/23  2/25/23  \\\n",
       "110262     8266    8266    8285  ...     8320     8320     8320     8320   \n",
       "110263     8266    8266    8285  ...     8320     8320     8320     8320   \n",
       "110264     8266    8266    8285  ...     8320     8320     8320     8320   \n",
       "110265     8266    8266    8285  ...     8320     8320     8320     8320   \n",
       "110266     8266    8266    8285  ...     8320     8320     8320     8320   \n",
       "...         ...     ...     ...  ...      ...      ...      ...      ...   \n",
       "3253805   23781   23820   23831  ...    24705    24756    24757    24757   \n",
       "3253806   23781   23820   23831  ...    24705    24756    24757    24757   \n",
       "3253807   23781   23820   23831  ...    24705    24756    24757    24757   \n",
       "3253808   23781   23820   23831  ...    24705    24756    24757    24757   \n",
       "3253809   23781   23820   23831  ...    24705    24756    24757    24757   \n",
       "\n",
       "         2/26/23  2/27/23        date  cases  state_code  deaths  \n",
       "110262      8320     8320  2020-01-22      0         NaN       0  \n",
       "110263      8320     8320  2020-01-23      0         NaN       0  \n",
       "110264      8320     8320  2020-01-24      0         NaN       0  \n",
       "110265      8320     8320  2020-01-25      0         NaN       0  \n",
       "110266      8320     8320  2020-01-26      0         NaN       0  \n",
       "...          ...      ...         ...    ...         ...     ...  \n",
       "3253805    24757    24764  2022-12-29  23769         NaN     127  \n",
       "3253806    24757    24764  2022-12-30  23781         NaN     127  \n",
       "3253807    24757    24764  2022-12-31  23781         NaN     127  \n",
       "3253808    24757    24764  2023-01-22  24269         NaN     129  \n",
       "3253809    24757    24764  2023-02-22  24741         NaN     130  \n",
       "\n",
       "[96209 rows x 61 columns]"
      ]
     },
     "execution_count": 5,
     "metadata": {},
     "output_type": "execute_result"
    }
   ],
   "source": [
    "## checking rows missing state_code\n",
    "check = df[df['state_code'].isna()]\n",
    "check"
   ]
  },
  {
   "cell_type": "code",
   "execution_count": 6,
   "id": "ec6c1bc4",
   "metadata": {},
   "outputs": [
    {
     "data": {
      "text/plain": [
       "array(['American Samoa', 'Diamond Princess', 'District of Columbia',\n",
       "       'Grand Princess', 'Guam', 'Northern Mariana Islands',\n",
       "       'Puerto Rico', 'Virgin Islands'], dtype=object)"
      ]
     },
     "execution_count": 6,
     "metadata": {},
     "output_type": "execute_result"
    }
   ],
   "source": [
    "check['state'].unique()"
   ]
  },
  {
   "cell_type": "markdown",
   "id": "277f9282",
   "metadata": {},
   "source": [
    "Ah, OK. There are several territories owned by the US that are not technically a state and therefore do not have a 2-letter state code.\n",
    "Let's add a state code for:\n",
    "American Somoa (AS)\n",
    "the District of Columbia (DC)\n",
    "Guam (GU)\n",
    "Northern Mariana Islands (MP)\n",
    "Puerto Rico\" (PR)\n",
    "Virgin Islands (VI)\n",
    "Also, it looks like cases from several cruise ships were listed (Diamond Princess and Grand Princess). Let's summarize these into one code for \"cruise\"\n",
    "Diamond Princess or Grand Princess (CR)"
   ]
  },
  {
   "cell_type": "code",
   "execution_count": 7,
   "id": "365adfce",
   "metadata": {},
   "outputs": [
    {
     "data": {
      "text/plain": [
       "array(['AL', 'AK', 'AS', 'AZ', 'AR', 'CA', 'CO', 'CT', 'DE', 'CR', 'DC',\n",
       "       'FL', 'GA', 'GU', 'HI', 'ID', 'IL', 'IN', 'IA', 'KS', 'KY', 'LA',\n",
       "       'ME', 'MD', 'MA', 'MI', 'MN', 'MS', 'MO', 'MT', 'NE', 'NV', 'NH',\n",
       "       'NJ', 'NM', 'NY', 'NC', 'ND', nan, 'OH', 'OK', 'OR', 'PA', 'PR',\n",
       "       'RI', 'SC', 'SD', 'TN', 'TX', 'UT', 'VT', 'VI', 'VA', 'WA', 'WV',\n",
       "       'WI', 'WY'], dtype=object)"
      ]
     },
     "execution_count": 7,
     "metadata": {},
     "output_type": "execute_result"
    }
   ],
   "source": [
    "df.loc[ df['state']== 'American Samoa', 'state_code'] = \"AS\"\n",
    "df.loc[ df['state']=='District of Columbia', 'state_code'] = \"DC\"\n",
    "df.loc[ df['state']== 'Guam', 'state_code'] = \"GU\"\n",
    "df.loc[ df['state']== 'Northern Mariana Islands ', 'state_code'] = \"MP\"\n",
    "df.loc[ df['state']=='Puerto Rico', 'state_code'] = \"PR\"\n",
    "df.loc[ df['state']=='Virgin Islands', 'state_code'] = \"VI\"\n",
    "df.loc[ (df['state']=='Diamond Princess') | (df['state']=='Grand Princess'), 'state_code'] = \"CR\"\n",
    "## confirming DC is in the state_code column\n",
    "df['state_code'].unique()"
   ]
  },
  {
   "cell_type": "markdown",
   "id": "cd28f95e",
   "metadata": {},
   "source": [
    "### Prepare Datetime Index\n",
    "We will convert our 'date' column to datetime and set this column as our index."
   ]
  },
  {
   "cell_type": "code",
   "execution_count": 10,
   "id": "fddb80c0",
   "metadata": {},
   "outputs": [
    {
     "ename": "TypeError",
     "evalue": "'method' object is not subscriptable",
     "output_type": "error",
     "traceback": [
      "\u001b[0;31m---------------------------------------------------------------------------\u001b[0m",
      "\u001b[0;31mTypeError\u001b[0m                                 Traceback (most recent call last)",
      "Cell \u001b[0;32mIn [10], line 1\u001b[0m\n\u001b[0;32m----> 1\u001b[0m df[\u001b[38;5;124m'\u001b[39m\u001b[38;5;124mdate\u001b[39m\u001b[38;5;124m'\u001b[39m] \u001b[38;5;241m=\u001b[39m pd\u001b[38;5;241m.\u001b[39mto_datetime(\u001b[43mdf\u001b[49m\u001b[43m[\u001b[49m\u001b[38;5;124;43m'\u001b[39;49m\u001b[38;5;124;43mdate\u001b[39;49m\u001b[38;5;124;43m'\u001b[39;49m\u001b[43m]\u001b[49m)\n\u001b[1;32m      2\u001b[0m df \u001b[38;5;241m=\u001b[39m df\u001b[38;5;241m.\u001b[39mset_index(\u001b[38;5;124m'\u001b[39m\u001b[38;5;124mdate\u001b[39m\u001b[38;5;124m'\u001b[39m)\n\u001b[1;32m      3\u001b[0m df\n",
      "\u001b[0;31mTypeError\u001b[0m: 'method' object is not subscriptable"
     ]
    }
   ],
   "source": [
    "df['date'] = pd.to_datetime(df['date'])\n",
    "df = df.set_index('date')\n",
    "df"
   ]
  },
  {
   "cell_type": "markdown",
   "id": "16c6de48",
   "metadata": {},
   "source": [
    "## Visualizing Time Series with Different Magnitudes\n",
    "First, we will drop columns that are not needed:"
   ]
  },
  {
   "cell_type": "code",
   "execution_count": 11,
   "id": "a5237db7",
   "metadata": {},
   "outputs": [
    {
     "ename": "AttributeError",
     "evalue": "'function' object has no attribute 'drop'",
     "output_type": "error",
     "traceback": [
      "\u001b[0;31m---------------------------------------------------------------------------\u001b[0m",
      "\u001b[0;31mAttributeError\u001b[0m                            Traceback (most recent call last)",
      "Cell \u001b[0;32mIn [11], line 2\u001b[0m\n\u001b[1;32m      1\u001b[0m \u001b[38;5;66;03m# drop unneeded columns\u001b[39;00m\n\u001b[0;32m----> 2\u001b[0m df \u001b[38;5;241m=\u001b[39m \u001b[43mdf\u001b[49m\u001b[38;5;241;43m.\u001b[39;49m\u001b[43mdrop\u001b[49m(columns\u001b[38;5;241m=\u001b[39m[\u001b[38;5;124m'\u001b[39m\u001b[38;5;124mfips\u001b[39m\u001b[38;5;124m'\u001b[39m,\u001b[38;5;124m'\u001b[39m\u001b[38;5;124mlat\u001b[39m\u001b[38;5;124m'\u001b[39m,\u001b[38;5;124m'\u001b[39m\u001b[38;5;124mlong\u001b[39m\u001b[38;5;124m'\u001b[39m])\n",
      "\u001b[0;31mAttributeError\u001b[0m: 'function' object has no attribute 'drop'"
     ]
    }
   ],
   "source": [
    "# drop unneeded columns\n",
    "df = df.drop(columns=['fips','lat','long'])"
   ]
  },
  {
   "cell_type": "markdown",
   "id": "2929b310",
   "metadata": {},
   "source": [
    "Now we will resample with daily frequency and we will group our county data together by state_code. We will aggregate our data with .sum() to get the total number of cases per state each day."
   ]
  },
  {
   "cell_type": "code",
   "execution_count": 12,
   "id": "489b40db",
   "metadata": {},
   "outputs": [
    {
     "ename": "AttributeError",
     "evalue": "'function' object has no attribute 'groupby'",
     "output_type": "error",
     "traceback": [
      "\u001b[0;31m---------------------------------------------------------------------------\u001b[0m",
      "\u001b[0;31mAttributeError\u001b[0m                            Traceback (most recent call last)",
      "Cell \u001b[0;32mIn [12], line 2\u001b[0m\n\u001b[1;32m      1\u001b[0m \u001b[38;5;66;03m## resample as daily freq by state\u001b[39;00m\n\u001b[0;32m----> 2\u001b[0m df_ts \u001b[38;5;241m=\u001b[39m \u001b[43mdf\u001b[49m\u001b[38;5;241;43m.\u001b[39;49m\u001b[43mgroupby\u001b[49m(\u001b[38;5;124m\"\u001b[39m\u001b[38;5;124mstate_code\u001b[39m\u001b[38;5;124m\"\u001b[39m)\u001b[38;5;241m.\u001b[39mresample(\u001b[38;5;124m\"\u001b[39m\u001b[38;5;124mD\u001b[39m\u001b[38;5;124m\"\u001b[39m)\u001b[38;5;241m.\u001b[39msum()\n\u001b[1;32m      3\u001b[0m df_ts\n",
      "\u001b[0;31mAttributeError\u001b[0m: 'function' object has no attribute 'groupby'"
     ]
    }
   ],
   "source": [
    "## resample as daily freq by state\n",
    "df_ts = df.groupby(\"state_code\").resample(\"D\").sum()\n",
    "df_ts"
   ]
  },
  {
   "cell_type": "markdown",
   "id": "514d8767",
   "metadata": {},
   "source": [
    "Now let's explore one state. We will start with New York (NY). We would like to visualize BOTH cases and deaths on the same figure. Here is a starting point:"
   ]
  },
  {
   "cell_type": "code",
   "execution_count": 13,
   "id": "82b1f1ef",
   "metadata": {},
   "outputs": [
    {
     "ename": "NameError",
     "evalue": "name 'df_ts' is not defined",
     "output_type": "error",
     "traceback": [
      "\u001b[0;31m---------------------------------------------------------------------------\u001b[0m",
      "\u001b[0;31mNameError\u001b[0m                                 Traceback (most recent call last)",
      "Cell \u001b[0;32mIn [13], line 1\u001b[0m\n\u001b[0;32m----> 1\u001b[0m state_ts \u001b[38;5;241m=\u001b[39m \u001b[43mdf_ts\u001b[49m\u001b[38;5;241m.\u001b[39mloc[\u001b[38;5;124m'\u001b[39m\u001b[38;5;124mNY\u001b[39m\u001b[38;5;124m'\u001b[39m]\u001b[38;5;241m.\u001b[39mcopy()\n\u001b[1;32m      2\u001b[0m ax \u001b[38;5;241m=\u001b[39m state_ts\u001b[38;5;241m.\u001b[39mplot()\n",
      "\u001b[0;31mNameError\u001b[0m: name 'df_ts' is not defined"
     ]
    }
   ],
   "source": [
    "state_ts = df_ts.loc['NY'].copy()\n",
    "ax = state_ts.plot();"
   ]
  },
  {
   "cell_type": "markdown",
   "id": "19dae669",
   "metadata": {},
   "source": [
    "As we can see, this makes it much more difficult to read the # of cases for deaths, since they are much lower than the # of cases.\n",
    "We can use twin axes to plot the deaths on the right y-axis so that it can be scaled differently to allow us to see the changes.\n",
    "## Using twin axes\n",
    "To use twin axes, we first make our fig and ax. The best way is using plt.subplots()\n",
    "\n",
    "Once we have our ax, we will save a new ax from ax.twinx()\n",
    "We will use our ax"
   ]
  },
  {
   "cell_type": "code",
   "execution_count": 14,
   "id": "4042102f",
   "metadata": {},
   "outputs": [
    {
     "ename": "NameError",
     "evalue": "name 'state_ts' is not defined",
     "output_type": "error",
     "traceback": [
      "\u001b[0;31m---------------------------------------------------------------------------\u001b[0m",
      "\u001b[0;31mNameError\u001b[0m                                 Traceback (most recent call last)",
      "Cell \u001b[0;32mIn [14], line 3\u001b[0m\n\u001b[1;32m      1\u001b[0m fig, ax1 \u001b[38;5;241m=\u001b[39m plt\u001b[38;5;241m.\u001b[39msubplots(figsize\u001b[38;5;241m=\u001b[39m(\u001b[38;5;241m12\u001b[39m,\u001b[38;5;241m5\u001b[39m))\n\u001b[1;32m      2\u001b[0m \u001b[38;5;66;03m## Plot first line on original ax\u001b[39;00m\n\u001b[0;32m----> 3\u001b[0m ax1\u001b[38;5;241m.\u001b[39mplot(\u001b[43mstate_ts\u001b[49m\u001b[38;5;241m.\u001b[39mindex, state_ts[\u001b[38;5;124m'\u001b[39m\u001b[38;5;124mcases\u001b[39m\u001b[38;5;124m'\u001b[39m] ,color\u001b[38;5;241m=\u001b[39m\u001b[38;5;124m'\u001b[39m\u001b[38;5;124m#3b81db\u001b[39m\u001b[38;5;124m'\u001b[39m,label\u001b[38;5;241m=\u001b[39m\u001b[38;5;124m'\u001b[39m\u001b[38;5;124mCases\u001b[39m\u001b[38;5;124m'\u001b[39m)\n\u001b[1;32m      4\u001b[0m \u001b[38;5;66;03m# Make twin axis and plot second line\u001b[39;00m\n\u001b[1;32m      5\u001b[0m ax2 \u001b[38;5;241m=\u001b[39m ax1\u001b[38;5;241m.\u001b[39mtwinx()\n",
      "\u001b[0;31mNameError\u001b[0m: name 'state_ts' is not defined"
     ]
    },
    {
     "data": {
      "image/png": "[encoded data removed]",
      "text/plain": [
       "<Figure size 1200x500 with 1 Axes>"
      ]
     },
     "metadata": {},
     "output_type": "display_data"
    }
   ],
   "source": [
    "fig, ax1 = plt.subplots(figsize=(12,5))\n",
    "## Plot first line on original ax\n",
    "ax1.plot(state_ts.index, state_ts['cases'] ,color='#3b81db',label='Cases')\n",
    "# Make twin axis and plot second line\n",
    "ax2 = ax1.twinx()\n",
    "ax2.plot(state_ts.index ,state_ts['deaths'],label='Deaths',color='orange')\n"
   ]
  },
  {
   "cell_type": "markdown",
   "id": "225ce095",
   "metadata": {},
   "source": [
    "Now you can see that different scales are being used for the cases and the deaths. Notice the discrepancy between the y-axis labels for cases (0 to 6e^6) and deaths (0 to 70,000). The deaths line(orange line) is no longer flat so we are able to see the cumulative increase in deaths over time. This visual still needs some work. Let's improve it by adding a legend.\n",
    "\n",
    "### Adding a legend to twin axis\n",
    "\n",
    "Once we have used 2 axes in 1 graph, legends start to become more difficult to use. The last legend displayed (ax1 vs ax2) will obscure the second one. There is a workaround for this, which is adapted from this original Source.\n",
    "\n",
    "We must manually reconstruct a legend by giving ax1.legend() the lines and labels for the lines.\n",
    "We can get the lines using: lines = ax1.get_lines() + ax2.get_lines() to get the lines themselves.\n",
    "We can get labels using: labels = [l.get_label() for l in lines]\n",
    "We can then use ax1.legend(lines, labels) to add the legend.\n",
    "Note: it doesn't matter which of the 2 axes you use for ax1.legend()."
   ]
  },
  {
   "cell_type": "code",
   "execution_count": 15,
   "id": "421a0726",
   "metadata": {},
   "outputs": [
    {
     "ename": "NameError",
     "evalue": "name 'state_ts' is not defined",
     "output_type": "error",
     "traceback": [
      "\u001b[0;31m---------------------------------------------------------------------------\u001b[0m",
      "\u001b[0;31mNameError\u001b[0m                                 Traceback (most recent call last)",
      "Cell \u001b[0;32mIn [15], line 4\u001b[0m\n\u001b[1;32m      1\u001b[0m \u001b[38;5;66;03m# Solution for having two legends\u001b[39;00m\n\u001b[1;32m      2\u001b[0m \u001b[38;5;66;03m# Source: https://samchaaa.medium.com/how-to-plot-two-different-scales-on-one-plot-in-matplotlib-with-legend-46554ba5915a\u001b[39;00m\n\u001b[1;32m      3\u001b[0m fig, ax1 \u001b[38;5;241m=\u001b[39m plt\u001b[38;5;241m.\u001b[39msubplots(figsize\u001b[38;5;241m=\u001b[39m(\u001b[38;5;241m12\u001b[39m,\u001b[38;5;241m5\u001b[39m))\n\u001b[0;32m----> 4\u001b[0m ax1\u001b[38;5;241m.\u001b[39mplot(\u001b[43mstate_ts\u001b[49m\u001b[38;5;241m.\u001b[39mindex, state_ts[\u001b[38;5;124m'\u001b[39m\u001b[38;5;124mcases\u001b[39m\u001b[38;5;124m'\u001b[39m] ,color\u001b[38;5;241m=\u001b[39m\u001b[38;5;124m'\u001b[39m\u001b[38;5;124m#3b81db\u001b[39m\u001b[38;5;124m'\u001b[39m,label\u001b[38;5;241m=\u001b[39m\u001b[38;5;124m'\u001b[39m\u001b[38;5;124mCases\u001b[39m\u001b[38;5;124m'\u001b[39m)\n\u001b[1;32m      5\u001b[0m ax1\u001b[38;5;241m.\u001b[39mset_ylabel(\u001b[38;5;124m\"\u001b[39m\u001b[38;5;124m# of Total Cases\u001b[39m\u001b[38;5;124m\"\u001b[39m)\n\u001b[1;32m      6\u001b[0m \u001b[38;5;66;03m# Make twin axis\u001b[39;00m\n",
      "\u001b[0;31mNameError\u001b[0m: name 'state_ts' is not defined"
     ]
    },
    {
     "data": {
      "image/png": "[encoded data removed]",
      "text/plain": [
       "<Figure size 1200x500 with 1 Axes>"
      ]
     },
     "metadata": {},
     "output_type": "display_data"
    }
   ],
   "source": [
    "# Solution for having two legends\n",
    "# Source: https://samchaaa.medium.com/how-to-plot-two-different-scales-on-one-plot-in-matplotlib-with-legend-46554ba5915a\n",
    "fig, ax1 = plt.subplots(figsize=(12,5))\n",
    "ax1.plot(state_ts.index, state_ts['cases'] ,color='#3b81db',label='Cases')\n",
    "ax1.set_ylabel(\"# of Total Cases\")\n",
    "# Make twin axis\n",
    "ax2 = ax1.twinx()\n",
    "ax2.plot(state_ts.index ,state_ts['deaths'],label='Deaths',color='orange')\n",
    "ax2.set_ylabel(\"# of Total Deaths\")\n",
    "## Removing the grids\n",
    "ax1.grid(False)\n",
    "ax2.grid(False)\n",
    "## Making joined legend\n",
    "lines = ax1.get_lines() + ax2.get_lines()\n",
    "labels = [l.get_label() for l in lines]\n",
    "ax2.legend(lines, labels, loc=0);\n",
    "fig.autofmt_xdate()"
   ]
  },
  {
   "cell_type": "markdown",
   "id": "98616768",
   "metadata": {},
   "source": [
    "The legend is necessary and looks great! Now we can customize the formatting of large tick values in a very similar fashion as we formatted date ticks.\n",
    "\n",
    "Before we add more customization, let's wrap our progress so far in a function:"
   ]
  },
  {
   "cell_type": "markdown",
   "id": "361c1a9c",
   "metadata": {},
   "source": [
    "# def plot_compare_cols(state_ts,col1='cases',color1='#3b81db',\n",
    "                      col2='deaths',color2='orange',\n",
    "                     ylabel1=\"# of Total Cases\", ylabel2=\"# of Total Deaths\",\n",
    "                     figsize=(12,5)):"
   ]
  },
  {
   "cell_type": "code",
   "execution_count": 16,
   "id": "5907b753",
   "metadata": {},
   "outputs": [],
   "source": [
    "def plot_compare_cols(state_ts,col1='cases',color1='#3b81db',\n",
    "                      col2='deaths',color2='orange',\n",
    "                     ylabel1=\"# of Total Cases\", ylabel2=\"# of Total Deaths\",\n",
    "                     figsize=(12,5)):\n",
    "    \"\"\"#Solution for having two legends\n",
    "    # Source: https://samchaaa.medium.com/how-to-plot-two-different-scales-on-one-plot-in-matplotlib-with-legend-46554ba5915a\n",
    "    \"\"\"\n",
    "    fig, ax1 = plt.subplots(figsize=figsize)\n",
    "    ax1.plot(state_ts.index, state_ts[col1] ,color=color1,label=col1.title())\n",
    "    ax1.set_ylabel(ylabel1)\n",
    "    # Make twin axis\n",
    "    ax2 = ax1.twinx()\n",
    "    ax2.plot(state_ts.index ,state_ts[col2],label=col2.title(),color=color2)\n",
    "    ax2.set_ylabel(ylabel2)\n",
    "    ## Removing the grids\n",
    "    ax1.grid(False)\n",
    "    ax2.grid(False)\n",
    "    ## Making joined legend\n",
    "    lines = ax1.get_lines() + ax2.get_lines()\n",
    "    labels = [l.get_label() for l in lines]\n",
    "    ax2.legend(lines, labels, loc=0);\n",
    "    fig.autofmt_xdate()\n",
    "    return fig, (ax1,ax2)"
   ]
  },
  {
   "cell_type": "markdown",
   "id": "c1001dc3",
   "metadata": {},
   "source": [
    "Now let's test our function on the New York data:\n",
    "\n"
   ]
  },
  {
   "cell_type": "code",
   "execution_count": 17,
   "id": "d73d6fbb",
   "metadata": {},
   "outputs": [
    {
     "ename": "NameError",
     "evalue": "name 'state_ts' is not defined",
     "output_type": "error",
     "traceback": [
      "\u001b[0;31m---------------------------------------------------------------------------\u001b[0m",
      "\u001b[0;31mNameError\u001b[0m                                 Traceback (most recent call last)",
      "Cell \u001b[0;32mIn [17], line 1\u001b[0m\n\u001b[0;32m----> 1\u001b[0m fig,(ax1,ax2) \u001b[38;5;241m=\u001b[39m plot_compare_cols(\u001b[43mstate_ts\u001b[49m)\n",
      "\u001b[0;31mNameError\u001b[0m: name 'state_ts' is not defined"
     ]
    }
   ],
   "source": [
    "fig,(ax1,ax2) = plot_compare_cols(state_ts)\n"
   ]
  },
  {
   "cell_type": "markdown",
   "id": "688e60c0",
   "metadata": {},
   "source": [
    "## Formatting Non-Date Ticks Using matplotlib.ticker\n",
    "We previously introduced the matplotlib.dates module (which we called mdates).\n",
    "\n",
    "There are also tick formatters/locators for non-date ticks in matplotlib.ticker\n",
    "## Tick Formatting - Large #'s\n",
    "In the figure above, we can see that the y-axis is using scientific notation (notice the 1e6 at the top of the left y-axis).\n",
    "\n",
    "Let's discuss 2 tick formatters that may be appropriate for our use case. - the StrMethodFormatter - the FuncFormatter"
   ]
  },
  {
   "cell_type": "code",
   "execution_count": 18,
   "id": "26ec7916",
   "metadata": {},
   "outputs": [],
   "source": [
    "import matplotlib.ticker as mticks\n"
   ]
  },
  {
   "cell_type": "markdown",
   "id": "a32c99df",
   "metadata": {},
   "source": [
    "Tick Formatters Examples\n",
    "Tick Locator Examples\n",
    "## StrMethodFormatter\n",
    "We will use the StrMethodFormatter which uses Python string format codes to change the tick label text.\n",
    "We provide a string format that will look very similar to an f-string. Meaning that it will use curly brackets around a string that contains the variable x and a : followed by a format code. However, it won't actually apply the formatting and won't include the f.\n",
    "Reference: String Format Codes\n",
    "Let's make our cases ticks look more professional\n",
    "Add a , separator for thousands\n",
    "Show 0 decimal places\n",
    "Tutorial Example"
   ]
  },
  {
   "cell_type": "code",
   "execution_count": 19,
   "id": "bcab7402",
   "metadata": {},
   "outputs": [
    {
     "data": {
      "text/plain": [
       "<matplotlib.ticker.StrMethodFormatter at 0x14907d400>"
      ]
     },
     "execution_count": 19,
     "metadata": {},
     "output_type": "execute_result"
    }
   ],
   "source": [
    "str_fmt = mticks.StrMethodFormatter(\"{x:,.0f}\")\n",
    "str_fmt"
   ]
  },
  {
   "cell_type": "code",
   "execution_count": 20,
   "id": "03876173",
   "metadata": {},
   "outputs": [
    {
     "ename": "NameError",
     "evalue": "name 'state_ts' is not defined",
     "output_type": "error",
     "traceback": [
      "\u001b[0;31m---------------------------------------------------------------------------\u001b[0m",
      "\u001b[0;31mNameError\u001b[0m                                 Traceback (most recent call last)",
      "Cell \u001b[0;32mIn [20], line 1\u001b[0m\n\u001b[0;32m----> 1\u001b[0m fig,(ax1,ax2) \u001b[38;5;241m=\u001b[39m plot_compare_cols(\u001b[43mstate_ts\u001b[49m)\n\u001b[1;32m      2\u001b[0m ax1\u001b[38;5;241m.\u001b[39myaxis\u001b[38;5;241m.\u001b[39mset_major_formatter(str_fmt)\n\u001b[1;32m      3\u001b[0m ax2\u001b[38;5;241m.\u001b[39myaxis\u001b[38;5;241m.\u001b[39mset_major_formatter(str_fmt)\n",
      "\u001b[0;31mNameError\u001b[0m: name 'state_ts' is not defined"
     ]
    }
   ],
   "source": [
    "fig,(ax1,ax2) = plot_compare_cols(state_ts)\n",
    "ax1.yaxis.set_major_formatter(str_fmt)\n",
    "ax2.yaxis.set_major_formatter(str_fmt)"
   ]
  },
  {
   "cell_type": "markdown",
   "id": "540626f8",
   "metadata": {},
   "source": [
    "This looks nice, but adds a lot of unnecessary 0's to our y-axis.\n",
    "What if we wanted to convert our y-axis from the raw # of cases (e.g. 80,000,000) to millions (e.g. 80M)?\n",
    "For this, we would need a more sophisticated tool - the FuncFormatter.\n",
    "## Using the FuncFormatter\n",
    "The function formatter is a little more involved and requires that we create a function that accepts: x (the actual value for the tick), and pos (a value for tracking position - used by matplotlib).\n",
    "It then must return a string with the desired tick label for each x.\n",
    "Example: How to use the FuncFormatter to convert raw units to millions with an \"M\" (e.g. \"12M\")\n",
    "To use the Function Formatter:\n",
    "Create a function that accepts 2 arguments: x and pos.\n",
    "Calculate whatever modification to x is required.\n",
    "Use f-strings and format codes to specify how to change x.\n",
    "e.g. f\"{x*1e-6:,}M\" would convert \"2,000,000\" -> \"2M\""
   ]
  },
  {
   "cell_type": "markdown",
   "id": "3b3e2648",
   "metadata": {},
   "source": [
    "## Tip: Writing large numbers in python.\n",
    "While we can write out the large values without any issue with python, it can be hard for a human to read at a glance when there are many 0's with no separator\n",
    "e.g. 10 million=10000000\n",
    "You may also know that we can also use scientific notation with python using 1e followed by the number of 0's.\n",
    "For example:\n",
    "10 thousand = 1e4\n",
    "1 million = 1e6\n",
    "10 million =1e7\n",
    "One additional trick that you probably DON'T know is that python will let you use an underscore as a separator for large values without it causing any issues.\n",
    "For example:\n",
    "10 million: 10_000_000\n",
    "So when typing large numeric values, try out the approaches above and see what feels most intuitive for you!"
   ]
  },
  {
   "cell_type": "markdown",
   "id": "e30251ac",
   "metadata": {},
   "source": [
    "# def millions(x,pos):\n",
    "# def thousands(x,pos):"
   ]
  },
  {
   "cell_type": "code",
   "execution_count": 23,
   "id": "4fee3f92",
   "metadata": {},
   "outputs": [],
   "source": [
    "def millions(x,pos):\n",
    "    \"\"\"function for use wth matplotlib FuncFormatter -  formats money in millions\"\"\"\n",
    "    new_x = x/1_000_000\n",
    "    return f\"{new_x:,.0f}M\"\n",
    "def thousands(x,pos):\n",
    "    \"\"\"function for use wth matplotlib FuncFormatter -  formats money in millions\"\"\"\n",
    "    new_x = x/1_000\n",
    "    return f\"{new_x:,.0f}K\"\n",
    "# Create the formatters\n",
    "fmt_mill = mticks.FuncFormatter(millions)\n",
    "fmt_thous = mticks.FuncFormatter(thousands)"
   ]
  },
  {
   "cell_type": "code",
   "execution_count": 25,
   "id": "c72e2b32",
   "metadata": {},
   "outputs": [
    {
     "ename": "NameError",
     "evalue": "name 'state_ts' is not defined",
     "output_type": "error",
     "traceback": [
      "\u001b[0;31m---------------------------------------------------------------------------\u001b[0m",
      "\u001b[0;31mNameError\u001b[0m                                 Traceback (most recent call last)",
      "Cell \u001b[0;32mIn [25], line 1\u001b[0m\n\u001b[0;32m----> 1\u001b[0m fig,(ax1,ax2) \u001b[38;5;241m=\u001b[39m plot_compare_cols(\u001b[43mstate_ts\u001b[49m)\n\u001b[1;32m      2\u001b[0m \u001b[38;5;66;03m## Set the axis' major formatter\u001b[39;00m\n\u001b[1;32m      3\u001b[0m ax1\u001b[38;5;241m.\u001b[39myaxis\u001b[38;5;241m.\u001b[39mset_major_formatter(fmt_mill)\n",
      "\u001b[0;31mNameError\u001b[0m: name 'state_ts' is not defined"
     ]
    }
   ],
   "source": [
    "fig,(ax1,ax2) = plot_compare_cols(state_ts)\n",
    "## Set the axis' major formatter\n",
    "ax1.yaxis.set_major_formatter(fmt_mill)\n",
    "ax2.yaxis.set_major_formatter(fmt_thous)"
   ]
  },
  {
   "cell_type": "markdown",
   "id": "a632b619",
   "metadata": {},
   "source": [
    "# Combining Our Tick Formatting with Date Formatting\n"
   ]
  },
  {
   "cell_type": "code",
   "execution_count": 26,
   "id": "ebdb9ecd",
   "metadata": {},
   "outputs": [
    {
     "ename": "NameError",
     "evalue": "name 'mdates' is not defined",
     "output_type": "error",
     "traceback": [
      "\u001b[0;31m---------------------------------------------------------------------------\u001b[0m",
      "\u001b[0;31mNameError\u001b[0m                                 Traceback (most recent call last)",
      "Cell \u001b[0;32mIn [26], line 2\u001b[0m\n\u001b[1;32m      1\u001b[0m \u001b[38;5;66;03m# create the locator to place ticks every 1 months.\u001b[39;00m\n\u001b[0;32m----> 2\u001b[0m loc_3months \u001b[38;5;241m=\u001b[39m \u001b[43mmdates\u001b[49m\u001b[38;5;241m.\u001b[39mMonthLocator(interval\u001b[38;5;241m=\u001b[39m\u001b[38;5;241m3\u001b[39m)\n\u001b[1;32m      3\u001b[0m fmt_months \u001b[38;5;241m=\u001b[39m mdates\u001b[38;5;241m.\u001b[39mDateFormatter(\u001b[38;5;124m\"\u001b[39m\u001b[38;5;124m%\u001b[39m\u001b[38;5;124mb\u001b[39m\u001b[38;5;124m\"\u001b[39m)\n\u001b[1;32m      4\u001b[0m \u001b[38;5;66;03m## for major year ticks\u001b[39;00m\n",
      "\u001b[0;31mNameError\u001b[0m: name 'mdates' is not defined"
     ]
    }
   ],
   "source": [
    "# create the locator to place ticks every 1 months.\n",
    "loc_3months = mdates.MonthLocator(interval=3)\n",
    "fmt_months = mdates.DateFormatter(\"%b\")\n",
    "## for major year ticks\n",
    "loc_year = mdates.YearLocator()\n",
    "fmt_year = mdates.DateFormatter(\"%Y\")"
   ]
  },
  {
   "cell_type": "code",
   "execution_count": 27,
   "id": "c67faeea",
   "metadata": {},
   "outputs": [
    {
     "ename": "NameError",
     "evalue": "name 'state_ts' is not defined",
     "output_type": "error",
     "traceback": [
      "\u001b[0;31m---------------------------------------------------------------------------\u001b[0m",
      "\u001b[0;31mNameError\u001b[0m                                 Traceback (most recent call last)",
      "Cell \u001b[0;32mIn [27], line 1\u001b[0m\n\u001b[0;32m----> 1\u001b[0m final_fig,(ax1,ax2) \u001b[38;5;241m=\u001b[39m plot_compare_cols(\u001b[43mstate_ts\u001b[49m)\n\u001b[1;32m      2\u001b[0m ax1\u001b[38;5;241m.\u001b[39mset_xlim(left\u001b[38;5;241m=\u001b[39mpd\u001b[38;5;241m.\u001b[39mto_datetime(\u001b[38;5;124m'\u001b[39m\u001b[38;5;124m01/2020\u001b[39m\u001b[38;5;124m'\u001b[39m))\n\u001b[1;32m      3\u001b[0m \u001b[38;5;66;03m## Set the y-axes major formatters\u001b[39;00m\n",
      "\u001b[0;31mNameError\u001b[0m: name 'state_ts' is not defined"
     ]
    }
   ],
   "source": [
    "final_fig,(ax1,ax2) = plot_compare_cols(state_ts)\n",
    "ax1.set_xlim(left=pd.to_datetime('01/2020'))\n",
    "## Set the y-axes major formatters\n",
    "ax1.yaxis.set_major_formatter(fmt_mill)\n",
    "ax2.yaxis.set_major_formatter(fmt_thous)\n",
    "## customize minor ticks\n",
    "ax1.xaxis.set_minor_locator(loc_3months)\n",
    "ax1.xaxis.set_minor_formatter(fmt_months)\n",
    "# ## customize major ticks\n",
    "ax1.xaxis.set_major_locator(loc_year)\n",
    "ax1.xaxis.set_major_formatter(fmt_year)\n",
    "## Making major/minor gridlines visually different\n",
    "ax1.grid(which='minor',axis='x',ls=\":\",lw=1)\n",
    "ax1.grid(which='major',axis='x',color='k')\n",
    "final_fig.autofmt_xdate(which='major',rotation=90,ha='center')\n",
    "\n"
   ]
  },
  {
   "cell_type": "markdown",
   "id": "c60274b3",
   "metadata": {},
   "source": [
    "# Time Series Stats\n"
   ]
  },
  {
   "cell_type": "markdown",
   "id": "ca926632",
   "metadata": {},
   "source": [
    "## Cumulative Data vs New Data\n",
    "We will continue to work with our county Covid data that has been grouped by state."
   ]
  },
  {
   "cell_type": "code",
   "execution_count": 29,
   "id": "31676613",
   "metadata": {},
   "outputs": [
    {
     "ename": "NameError",
     "evalue": "name 'df_ts' is not defined",
     "output_type": "error",
     "traceback": [
      "\u001b[0;31m---------------------------------------------------------------------------\u001b[0m",
      "\u001b[0;31mNameError\u001b[0m                                 Traceback (most recent call last)",
      "Cell \u001b[0;32mIn [29], line 1\u001b[0m\n\u001b[0;32m----> 1\u001b[0m \u001b[43mdf_ts\u001b[49m\n",
      "\u001b[0;31mNameError\u001b[0m: name 'df_ts' is not defined"
     ]
    }
   ],
   "source": [
    "df_ts"
   ]
  },
  {
   "cell_type": "markdown",
   "id": "0268570c",
   "metadata": {},
   "source": [
    "Let's select 1 feature from 1 state to use for demonstration.\n",
    "We will use cases from NY, but you should try another state and/or feature!\n",
    "## Converting Cumulative Values to Delta Values\n",
    "In the previous lesson, we made a high quality plot for cases and deaths in New York, but let's just pull up a quick plot here to refresh our memory:"
   ]
  },
  {
   "cell_type": "code",
   "execution_count": 30,
   "id": "e1f93059",
   "metadata": {},
   "outputs": [
    {
     "ename": "NameError",
     "evalue": "name 'df_ts' is not defined",
     "output_type": "error",
     "traceback": [
      "\u001b[0;31m---------------------------------------------------------------------------\u001b[0m",
      "\u001b[0;31mNameError\u001b[0m                                 Traceback (most recent call last)",
      "Cell \u001b[0;32mIn [30], line 3\u001b[0m\n\u001b[1;32m      1\u001b[0m \u001b[38;5;66;03m## quick visualization\u001b[39;00m\n\u001b[1;32m      2\u001b[0m state_code \u001b[38;5;241m=\u001b[39m \u001b[38;5;124m\"\u001b[39m\u001b[38;5;124mNY\u001b[39m\u001b[38;5;124m\"\u001b[39m\n\u001b[0;32m----> 3\u001b[0m state_ts \u001b[38;5;241m=\u001b[39m \u001b[43mdf_ts\u001b[49m\u001b[38;5;241m.\u001b[39mloc[\u001b[38;5;124m'\u001b[39m\u001b[38;5;124mNY\u001b[39m\u001b[38;5;124m'\u001b[39m]\u001b[38;5;241m.\u001b[39mcopy()\n\u001b[1;32m      4\u001b[0m axes \u001b[38;5;241m=\u001b[39m state_ts[\u001b[38;5;124m'\u001b[39m\u001b[38;5;124mcases\u001b[39m\u001b[38;5;124m'\u001b[39m]\u001b[38;5;241m.\u001b[39mplot(figsize\u001b[38;5;241m=\u001b[39m(\u001b[38;5;241m12\u001b[39m,\u001b[38;5;241m6\u001b[39m),title\u001b[38;5;241m=\u001b[39m\u001b[38;5;124mf\u001b[39m\u001b[38;5;124m\"\u001b[39m\u001b[38;5;132;01m{\u001b[39;00mstate_code\u001b[38;5;132;01m}\u001b[39;00m\u001b[38;5;124m State\u001b[39m\u001b[38;5;124m\"\u001b[39m)\n",
      "\u001b[0;31mNameError\u001b[0m: name 'df_ts' is not defined"
     ]
    }
   ],
   "source": [
    "## quick visualization\n",
    "state_code = \"NY\"\n",
    "state_ts = df_ts.loc['NY'].copy()\n",
    "axes = state_ts['cases'].plot(figsize=(12,6),title=f\"{state_code} State\")"
   ]
  },
  {
   "cell_type": "markdown",
   "id": "7fa75b3d",
   "metadata": {},
   "source": [
    "We can see above that our time series always increases. The Covid data is actually the cumulative number of cases.\n",
    "\n",
    "What if we wanted to visualize just the NEW cases?\n",
    "### .diff()\n",
    "We can use ts.diff(), which will subtract the previous row from the next row, turning our cumulative data into New Daily Cases.\n",
    "It calculates the DIFFERENCE between each row and the prior row by default (to calculate the difference between other # of rows, you can use the periods argument.)\n",
    "This will create 1 null value at the beginning of the time series since there is no prior row to subtract."
   ]
  },
  {
   "cell_type": "code",
   "execution_count": 31,
   "id": "a2ed092a",
   "metadata": {},
   "outputs": [
    {
     "ename": "NameError",
     "evalue": "name 'state_ts' is not defined",
     "output_type": "error",
     "traceback": [
      "\u001b[0;31m---------------------------------------------------------------------------\u001b[0m",
      "\u001b[0;31mNameError\u001b[0m                                 Traceback (most recent call last)",
      "Cell \u001b[0;32mIn [31], line 1\u001b[0m\n\u001b[0;32m----> 1\u001b[0m ts_diff \u001b[38;5;241m=\u001b[39m \u001b[43mstate_ts\u001b[49m\u001b[38;5;241m.\u001b[39mdiff()\n\u001b[1;32m      2\u001b[0m ts_diff\n",
      "\u001b[0;31mNameError\u001b[0m: name 'state_ts' is not defined"
     ]
    }
   ],
   "source": [
    "ts_diff = state_ts.diff()\n",
    "ts_diff"
   ]
  },
  {
   "cell_type": "markdown",
   "id": "dba262ba",
   "metadata": {},
   "source": [
    "Now let's take a look at the plot:"
   ]
  },
  {
   "cell_type": "code",
   "execution_count": 32,
   "id": "16221f88",
   "metadata": {},
   "outputs": [
    {
     "ename": "NameError",
     "evalue": "name 'ts_diff' is not defined",
     "output_type": "error",
     "traceback": [
      "\u001b[0;31m---------------------------------------------------------------------------\u001b[0m",
      "\u001b[0;31mNameError\u001b[0m                                 Traceback (most recent call last)",
      "Cell \u001b[0;32mIn [32], line 1\u001b[0m\n\u001b[0;32m----> 1\u001b[0m ax \u001b[38;5;241m=\u001b[39m \u001b[43mts_diff\u001b[49m[\u001b[38;5;124m'\u001b[39m\u001b[38;5;124mcases\u001b[39m\u001b[38;5;124m'\u001b[39m]\u001b[38;5;241m.\u001b[39mplot(title\u001b[38;5;241m=\u001b[39m\u001b[38;5;124m'\u001b[39m\u001b[38;5;124m# of Cases - Differenced\u001b[39m\u001b[38;5;124m'\u001b[39m)\n",
      "\u001b[0;31mNameError\u001b[0m: name 'ts_diff' is not defined"
     ]
    }
   ],
   "source": [
    "ax = ts_diff['cases'].plot(title='# of Cases - Differenced')\n"
   ]
  },
  {
   "cell_type": "markdown",
   "id": "09c7f67b",
   "metadata": {},
   "source": [
    "Ah, now that looks much more informative, in terms of the day-to-day changes in case counts.\n",
    "It looks pretty jagged though. Did we do something wrong?\n",
    "No! Time series will often have random fluctuations that can make it difficult to see the big-picture.\n",
    "Most of the visuals of Covid data that you've seen in the news have likely been moving averages, which smooths out the day-to-day fluctuations.\n",
    "## Cumulative Sum (.cumsum()) is the Inverse of .diff()\n",
    "Additionally, if we start with day-to-day data, we can do the opposite manipulation. We can convert new values/delta values into a cumulative total by using .cumsum()\n",
    "This will take us back to where we started with this data set, but we will demo the process below:"
   ]
  },
  {
   "cell_type": "code",
   "execution_count": 33,
   "id": "bdfd6a06",
   "metadata": {},
   "outputs": [
    {
     "ename": "NameError",
     "evalue": "name 'ts_diff' is not defined",
     "output_type": "error",
     "traceback": [
      "\u001b[0;31m---------------------------------------------------------------------------\u001b[0m",
      "\u001b[0;31mNameError\u001b[0m                                 Traceback (most recent call last)",
      "Cell \u001b[0;32mIn [33], line 1\u001b[0m\n\u001b[0;32m----> 1\u001b[0m ts_sum \u001b[38;5;241m=\u001b[39m \u001b[43mts_diff\u001b[49m\u001b[38;5;241m.\u001b[39mcumsum()\n\u001b[1;32m      2\u001b[0m ax \u001b[38;5;241m=\u001b[39m ts_sum[\u001b[38;5;124m'\u001b[39m\u001b[38;5;124mcases\u001b[39m\u001b[38;5;124m'\u001b[39m]\u001b[38;5;241m.\u001b[39mplot(title\u001b[38;5;241m=\u001b[39m\u001b[38;5;124m'\u001b[39m\u001b[38;5;124mCumulative Sum vs Original Data\u001b[39m\u001b[38;5;124m'\u001b[39m,\n\u001b[1;32m      3\u001b[0m                           label\u001b[38;5;241m=\u001b[39m\u001b[38;5;124m'\u001b[39m\u001b[38;5;124mSummed Diff Data\u001b[39m\u001b[38;5;124m'\u001b[39m,color\u001b[38;5;241m=\u001b[39m\u001b[38;5;124m'\u001b[39m\u001b[38;5;124mblack\u001b[39m\u001b[38;5;124m'\u001b[39m,lw\u001b[38;5;241m=\u001b[39m\u001b[38;5;241m5\u001b[39m)\n\u001b[1;32m      4\u001b[0m state_ts[\u001b[38;5;124m'\u001b[39m\u001b[38;5;124mcases\u001b[39m\u001b[38;5;124m'\u001b[39m]\u001b[38;5;241m.\u001b[39mplot(ax\u001b[38;5;241m=\u001b[39max,label\u001b[38;5;241m=\u001b[39m\u001b[38;5;124m'\u001b[39m\u001b[38;5;124mOriginal Data\u001b[39m\u001b[38;5;124m'\u001b[39m,color\u001b[38;5;241m=\u001b[39m\u001b[38;5;124m'\u001b[39m\u001b[38;5;124mred\u001b[39m\u001b[38;5;124m'\u001b[39m,lw\u001b[38;5;241m=\u001b[39m\u001b[38;5;241m2\u001b[39m,ls\u001b[38;5;241m=\u001b[39m\u001b[38;5;124m'\u001b[39m\u001b[38;5;124m--\u001b[39m\u001b[38;5;124m'\u001b[39m)\n",
      "\u001b[0;31mNameError\u001b[0m: name 'ts_diff' is not defined"
     ]
    }
   ],
   "source": [
    "ts_sum = ts_diff.cumsum()\n",
    "ax = ts_sum['cases'].plot(title='Cumulative Sum vs Original Data',\n",
    "                          label='Summed Diff Data',color='black',lw=5)\n",
    "state_ts['cases'].plot(ax=ax,label='Original Data',color='red',lw=2,ls='--')\n",
    "ax.legend();"
   ]
  },
  {
   "cell_type": "markdown",
   "id": "3f7dd156",
   "metadata": {},
   "source": [
    "As we can see in the figure above, summing the differenced data produces the same cumulative values that we originally had.\n",
    "## Rolling Statistics\n",
    "To help us see what is happening, we will select a smaller time period. We will limit our data to Oct 2021 through July 2022."
   ]
  },
  {
   "cell_type": "code",
   "execution_count": 34,
   "id": "29db0772",
   "metadata": {},
   "outputs": [
    {
     "ename": "NameError",
     "evalue": "name 'ts_diff' is not defined",
     "output_type": "error",
     "traceback": [
      "\u001b[0;31m---------------------------------------------------------------------------\u001b[0m",
      "\u001b[0;31mNameError\u001b[0m                                 Traceback (most recent call last)",
      "Cell \u001b[0;32mIn [34], line 2\u001b[0m\n\u001b[1;32m      1\u001b[0m \u001b[38;5;66;03m## selecting a single feature and smaller time period for demonstration\u001b[39;00m\n\u001b[0;32m----> 2\u001b[0m ts \u001b[38;5;241m=\u001b[39m \u001b[43mts_diff\u001b[49m\u001b[38;5;241m.\u001b[39mloc[\u001b[38;5;124m'\u001b[39m\u001b[38;5;124m10/2021\u001b[39m\u001b[38;5;124m'\u001b[39m:\u001b[38;5;124m'\u001b[39m\u001b[38;5;124m7/2022\u001b[39m\u001b[38;5;124m'\u001b[39m,\u001b[38;5;124m'\u001b[39m\u001b[38;5;124mcases\u001b[39m\u001b[38;5;124m'\u001b[39m]\u001b[38;5;241m.\u001b[39mcopy()\u001b[38;5;241m.\u001b[39mdropna()\n\u001b[1;32m      3\u001b[0m ts\u001b[38;5;241m.\u001b[39mplot()\n",
      "\u001b[0;31mNameError\u001b[0m: name 'ts_diff' is not defined"
     ]
    }
   ],
   "source": [
    "## selecting a single feature and smaller time period for demonstration\n",
    "ts = ts_diff.loc['10/2021':'7/2022','cases'].copy().dropna()\n",
    "ts.plot();"
   ]
  },
  {
   "cell_type": "markdown",
   "id": "bfe2a658",
   "metadata": {},
   "source": [
    "Like .resample(), pandas has a .rolling() method, which is designed for calculating rolling statistics across a fixed window size.\n",
    "It accepts a window size (how many rows/time steps should be averaged together).\n",
    "It also requires some form of aggregation to produce the final data.\n",
    "Let's try calculating the 7-day moving average for our ts."
   ]
  },
  {
   "cell_type": "code",
   "execution_count": 35,
   "id": "90dd6513",
   "metadata": {},
   "outputs": [
    {
     "ename": "NameError",
     "evalue": "name 'ts' is not defined",
     "output_type": "error",
     "traceback": [
      "\u001b[0;31m---------------------------------------------------------------------------\u001b[0m",
      "\u001b[0;31mNameError\u001b[0m                                 Traceback (most recent call last)",
      "Cell \u001b[0;32mIn [35], line 2\u001b[0m\n\u001b[1;32m      1\u001b[0m window \u001b[38;5;241m=\u001b[39m \u001b[38;5;241m7\u001b[39m\n\u001b[0;32m----> 2\u001b[0m ts_mean \u001b[38;5;241m=\u001b[39m \u001b[43mts\u001b[49m\u001b[38;5;241m.\u001b[39mrolling(window)\u001b[38;5;241m.\u001b[39mmean()\n\u001b[1;32m      3\u001b[0m ts_mean\n",
      "\u001b[0;31mNameError\u001b[0m: name 'ts' is not defined"
     ]
    }
   ],
   "source": [
    "window = 7\n",
    "ts_mean = ts.rolling(window).mean()\n",
    "ts_mean"
   ]
  },
  {
   "cell_type": "markdown",
   "id": "e9c22d2d",
   "metadata": {},
   "source": [
    "By calculating a rolling mean, notice we have created null values for the first 7 rows (the window size).\n",
    "Now let's compare the plot of our raw daily counts with our 7-day moving average."
   ]
  },
  {
   "cell_type": "code",
   "execution_count": 36,
   "id": "21361ccf",
   "metadata": {},
   "outputs": [
    {
     "ename": "NameError",
     "evalue": "name 'ts' is not defined",
     "output_type": "error",
     "traceback": [
      "\u001b[0;31m---------------------------------------------------------------------------\u001b[0m",
      "\u001b[0;31mNameError\u001b[0m                                 Traceback (most recent call last)",
      "Cell \u001b[0;32mIn [36], line 1\u001b[0m\n\u001b[0;32m----> 1\u001b[0m ax \u001b[38;5;241m=\u001b[39m \u001b[43mts\u001b[49m\u001b[38;5;241m.\u001b[39mplot(label\u001b[38;5;241m=\u001b[39m\u001b[38;5;124m'\u001b[39m\u001b[38;5;124mRaw Daily Counts\u001b[39m\u001b[38;5;124m'\u001b[39m,lw\u001b[38;5;241m=\u001b[39m\u001b[38;5;241m1\u001b[39m)\n\u001b[1;32m      2\u001b[0m ts_mean\u001b[38;5;241m.\u001b[39mplot(label\u001b[38;5;241m=\u001b[39m\u001b[38;5;124mf\u001b[39m\u001b[38;5;124m'\u001b[39m\u001b[38;5;132;01m{\u001b[39;00mwindow\u001b[38;5;132;01m}\u001b[39;00m\u001b[38;5;124m Day Moving Average\u001b[39m\u001b[38;5;124m'\u001b[39m,ax\u001b[38;5;241m=\u001b[39max,lw\u001b[38;5;241m=\u001b[39m\u001b[38;5;241m3\u001b[39m)\n\u001b[1;32m      3\u001b[0m ax\u001b[38;5;241m.\u001b[39mlegend()\n",
      "\u001b[0;31mNameError\u001b[0m: name 'ts' is not defined"
     ]
    }
   ],
   "source": [
    "ax = ts.plot(label='Raw Daily Counts',lw=1)\n",
    "ts_mean.plot(label=f'{window} Day Moving Average',ax=ax,lw=3)\n",
    "ax.legend();"
   ]
  },
  {
   "cell_type": "markdown",
   "id": "23ae34a9",
   "metadata": {},
   "source": [
    "While definitely not perfectly smooth, taking the 7-day moving average has made it easier to see the big-picture trend without getting distracted by the naturally occurring random fluctuations in daily values."
   ]
  },
  {
   "cell_type": "code",
   "execution_count": 37,
   "id": "6d2a9127",
   "metadata": {},
   "outputs": [
    {
     "ename": "NameError",
     "evalue": "name 'ts' is not defined",
     "output_type": "error",
     "traceback": [
      "\u001b[0;31m---------------------------------------------------------------------------\u001b[0m",
      "\u001b[0;31mNameError\u001b[0m                                 Traceback (most recent call last)",
      "Cell \u001b[0;32mIn [37], line 2\u001b[0m\n\u001b[1;32m      1\u001b[0m \u001b[38;5;66;03m# we can also calculate rolling std()\u001b[39;00m\n\u001b[0;32m----> 2\u001b[0m std \u001b[38;5;241m=\u001b[39m \u001b[43mts\u001b[49m\u001b[38;5;241m.\u001b[39mrolling(window)\u001b[38;5;241m.\u001b[39mstd()\n\u001b[1;32m      3\u001b[0m std\n",
      "\u001b[0;31mNameError\u001b[0m: name 'ts' is not defined"
     ]
    }
   ],
   "source": [
    "# we can also calculate rolling std()\n",
    "std = ts.rolling(window).std()\n",
    "std"
   ]
  },
  {
   "cell_type": "markdown",
   "id": "736b1c3e",
   "metadata": {},
   "source": [
    "Now we will calculate the values within 1 standard deviation of the mean:\n",
    "\n"
   ]
  },
  {
   "cell_type": "code",
   "execution_count": 38,
   "id": "81f31cbf",
   "metadata": {},
   "outputs": [
    {
     "ename": "NameError",
     "evalue": "name 'ts_mean' is not defined",
     "output_type": "error",
     "traceback": [
      "\u001b[0;31m---------------------------------------------------------------------------\u001b[0m",
      "\u001b[0;31mNameError\u001b[0m                                 Traceback (most recent call last)",
      "Cell \u001b[0;32mIn [38], line 2\u001b[0m\n\u001b[1;32m      1\u001b[0m \u001b[38;5;66;03m## calculating +/- std\u001b[39;00m\n\u001b[0;32m----> 2\u001b[0m ts_stats\u001b[38;5;241m=\u001b[39m pd\u001b[38;5;241m.\u001b[39mDataFrame({\u001b[38;5;124m'\u001b[39m\u001b[38;5;124mmean\u001b[39m\u001b[38;5;124m'\u001b[39m:\u001b[43mts_mean\u001b[49m,\n\u001b[1;32m      3\u001b[0m              \u001b[38;5;124m'\u001b[39m\u001b[38;5;124mmean+std\u001b[39m\u001b[38;5;124m'\u001b[39m:ts_mean\u001b[38;5;241m+\u001b[39mstd,\n\u001b[1;32m      4\u001b[0m              \u001b[38;5;124m'\u001b[39m\u001b[38;5;124mmean-std\u001b[39m\u001b[38;5;124m'\u001b[39m:ts_mean\u001b[38;5;241m-\u001b[39mstd})\n\u001b[1;32m      5\u001b[0m ts_stats \u001b[38;5;241m=\u001b[39m ts_stats\u001b[38;5;241m.\u001b[39mdropna()\n\u001b[1;32m      6\u001b[0m ts_stats\n",
      "\u001b[0;31mNameError\u001b[0m: name 'ts_mean' is not defined"
     ]
    }
   ],
   "source": [
    "## calculating +/- std\n",
    "ts_stats= pd.DataFrame({'mean':ts_mean,\n",
    "             'mean+std':ts_mean+std,\n",
    "             'mean-std':ts_mean-std})\n",
    "ts_stats = ts_stats.dropna()\n",
    "ts_stats"
   ]
  },
  {
   "cell_type": "code",
   "execution_count": 39,
   "id": "aabfe1ba",
   "metadata": {},
   "outputs": [
    {
     "ename": "NameError",
     "evalue": "name 'ts_stats' is not defined",
     "output_type": "error",
     "traceback": [
      "\u001b[0;31m---------------------------------------------------------------------------\u001b[0m",
      "\u001b[0;31mNameError\u001b[0m                                 Traceback (most recent call last)",
      "Cell \u001b[0;32mIn [39], line 2\u001b[0m\n\u001b[1;32m      1\u001b[0m \u001b[38;5;66;03m## plot the rolling mean +/- the rolling std\u001b[39;00m\n\u001b[0;32m----> 2\u001b[0m ax \u001b[38;5;241m=\u001b[39m \u001b[43mts_stats\u001b[49m\u001b[38;5;241m.\u001b[39mplot(y\u001b[38;5;241m=\u001b[39m\u001b[38;5;124m'\u001b[39m\u001b[38;5;124mmean\u001b[39m\u001b[38;5;124m'\u001b[39m,lw\u001b[38;5;241m=\u001b[39m\u001b[38;5;241m2\u001b[39m)\n\u001b[1;32m      3\u001b[0m ts_stats\u001b[38;5;241m.\u001b[39mplot(y\u001b[38;5;241m=\u001b[39m\u001b[38;5;124m'\u001b[39m\u001b[38;5;124mmean+std\u001b[39m\u001b[38;5;124m'\u001b[39m,color\u001b[38;5;241m=\u001b[39m\u001b[38;5;124m'\u001b[39m\u001b[38;5;124mg\u001b[39m\u001b[38;5;124m'\u001b[39m,lw\u001b[38;5;241m=\u001b[39m\u001b[38;5;241m0.5\u001b[39m,ax\u001b[38;5;241m=\u001b[39max)\n\u001b[1;32m      4\u001b[0m ts_stats\u001b[38;5;241m.\u001b[39mplot(y\u001b[38;5;241m=\u001b[39m\u001b[38;5;124m'\u001b[39m\u001b[38;5;124mmean-std\u001b[39m\u001b[38;5;124m'\u001b[39m,color\u001b[38;5;241m=\u001b[39m\u001b[38;5;124m'\u001b[39m\u001b[38;5;124mg\u001b[39m\u001b[38;5;124m'\u001b[39m,lw\u001b[38;5;241m=\u001b[39m\u001b[38;5;241m0.5\u001b[39m,ax\u001b[38;5;241m=\u001b[39max)\n",
      "\u001b[0;31mNameError\u001b[0m: name 'ts_stats' is not defined"
     ]
    }
   ],
   "source": [
    "## plot the rolling mean +/- the rolling std\n",
    "ax = ts_stats.plot(y='mean',lw=2)\n",
    "ts_stats.plot(y='mean+std',color='g',lw=0.5,ax=ax)\n",
    "ts_stats.plot(y='mean-std',color='g',lw=0.5,ax=ax)"
   ]
  },
  {
   "cell_type": "markdown",
   "id": "41f37831",
   "metadata": {},
   "source": [
    "We can use ax.fill_between to fill in the area between two sets of y-values.\n"
   ]
  },
  {
   "cell_type": "code",
   "execution_count": 40,
   "id": "a2326be4",
   "metadata": {},
   "outputs": [
    {
     "ename": "NameError",
     "evalue": "name 'ts_stats' is not defined",
     "output_type": "error",
     "traceback": [
      "\u001b[0;31m---------------------------------------------------------------------------\u001b[0m",
      "\u001b[0;31mNameError\u001b[0m                                 Traceback (most recent call last)",
      "Cell \u001b[0;32mIn [40], line 2\u001b[0m\n\u001b[1;32m      1\u001b[0m \u001b[38;5;66;03m## plot the rolling mean +/- the rolling std\u001b[39;00m\n\u001b[0;32m----> 2\u001b[0m ax \u001b[38;5;241m=\u001b[39m \u001b[43mts_stats\u001b[49m\u001b[38;5;241m.\u001b[39mplot(y\u001b[38;5;241m=\u001b[39m\u001b[38;5;124m'\u001b[39m\u001b[38;5;124mmean\u001b[39m\u001b[38;5;124m'\u001b[39m,lw\u001b[38;5;241m=\u001b[39m\u001b[38;5;241m2\u001b[39m)\n\u001b[1;32m      3\u001b[0m ax\u001b[38;5;241m.\u001b[39mfill_between(ts_stats\u001b[38;5;241m.\u001b[39mindex, ts_stats[\u001b[38;5;124m'\u001b[39m\u001b[38;5;124mmean+std\u001b[39m\u001b[38;5;124m'\u001b[39m], ts_stats[\u001b[38;5;124m'\u001b[39m\u001b[38;5;124mmean-std\u001b[39m\u001b[38;5;124m'\u001b[39m], color\u001b[38;5;241m=\u001b[39m\u001b[38;5;124m'\u001b[39m\u001b[38;5;124mlimegreen\u001b[39m\u001b[38;5;124m'\u001b[39m, alpha\u001b[38;5;241m=\u001b[39m\u001b[38;5;241m0.5\u001b[39m,zorder\u001b[38;5;241m=\u001b[39m\u001b[38;5;241m0\u001b[39m,label\u001b[38;5;241m=\u001b[39m\u001b[38;5;124m\"\u001b[39m\u001b[38;5;124mmean+/-std\u001b[39m\u001b[38;5;124m\"\u001b[39m);\n\u001b[1;32m      4\u001b[0m ax\u001b[38;5;241m.\u001b[39mlegend()\n",
      "\u001b[0;31mNameError\u001b[0m: name 'ts_stats' is not defined"
     ]
    }
   ],
   "source": [
    "## plot the rolling mean +/- the rolling std\n",
    "ax = ts_stats.plot(y='mean',lw=2)\n",
    "ax.fill_between(ts_stats.index, ts_stats['mean+std'], ts_stats['mean-std'], color='limegreen', alpha=0.5,zorder=0,label=\"mean+/-std\");\n",
    "ax.legend();"
   ]
  },
  {
   "cell_type": "markdown",
   "id": "b59663b6",
   "metadata": {},
   "source": [
    "# Normalizing Time Series\n"
   ]
  },
  {
   "cell_type": "markdown",
   "id": "4868ccac",
   "metadata": {},
   "source": [
    "In the previous lesson, we created visuals for New York State. While those were informative, we now want to compare Covid cases in New York to another state.\n",
    "\n",
    "## Normalizing Time Series\n",
    "First, let's define the cases in NY and the cases in KY:"
   ]
  },
  {
   "cell_type": "code",
   "execution_count": 41,
   "id": "f48a5c3c",
   "metadata": {},
   "outputs": [
    {
     "ename": "NameError",
     "evalue": "name 'df_ts' is not defined",
     "output_type": "error",
     "traceback": [
      "\u001b[0;31m---------------------------------------------------------------------------\u001b[0m",
      "\u001b[0;31mNameError\u001b[0m                                 Traceback (most recent call last)",
      "Cell \u001b[0;32mIn [41], line 2\u001b[0m\n\u001b[1;32m      1\u001b[0m \u001b[38;5;66;03m#Define each state's cases\u001b[39;00m\n\u001b[0;32m----> 2\u001b[0m ny_cases \u001b[38;5;241m=\u001b[39m \u001b[43mdf_ts\u001b[49m\u001b[38;5;241m.\u001b[39mloc[\u001b[38;5;124m\"\u001b[39m\u001b[38;5;124mNY\u001b[39m\u001b[38;5;124m\"\u001b[39m,\u001b[38;5;124m'\u001b[39m\u001b[38;5;124mcases\u001b[39m\u001b[38;5;124m'\u001b[39m]\n\u001b[1;32m      3\u001b[0m ky_cases \u001b[38;5;241m=\u001b[39m df_ts\u001b[38;5;241m.\u001b[39mloc[\u001b[38;5;124m'\u001b[39m\u001b[38;5;124mKY\u001b[39m\u001b[38;5;124m'\u001b[39m,\u001b[38;5;124m'\u001b[39m\u001b[38;5;124mcases\u001b[39m\u001b[38;5;124m'\u001b[39m]\n",
      "\u001b[0;31mNameError\u001b[0m: name 'df_ts' is not defined"
     ]
    }
   ],
   "source": [
    "#Define each state's cases\n",
    "ny_cases = df_ts.loc[\"NY\",'cases']\n",
    "ky_cases = df_ts.loc['KY','cases']"
   ]
  },
  {
   "cell_type": "markdown",
   "id": "f0c9e10b",
   "metadata": {},
   "source": [
    "Now, let's create a DataFrame with each state's cases as a column:\n",
    "\n"
   ]
  },
  {
   "cell_type": "code",
   "execution_count": 42,
   "id": "3668190c",
   "metadata": {},
   "outputs": [
    {
     "ename": "NameError",
     "evalue": "name 'ky_cases' is not defined",
     "output_type": "error",
     "traceback": [
      "\u001b[0;31m---------------------------------------------------------------------------\u001b[0m",
      "\u001b[0;31mNameError\u001b[0m                                 Traceback (most recent call last)",
      "Cell \u001b[0;32mIn [42], line 1\u001b[0m\n\u001b[0;32m----> 1\u001b[0m compare_ts \u001b[38;5;241m=\u001b[39m pd\u001b[38;5;241m.\u001b[39mDataFrame({\u001b[38;5;124m'\u001b[39m\u001b[38;5;124mKY\u001b[39m\u001b[38;5;124m'\u001b[39m:\u001b[43mky_cases\u001b[49m,\n\u001b[1;32m      2\u001b[0m                           \u001b[38;5;124m\"\u001b[39m\u001b[38;5;124mNY\u001b[39m\u001b[38;5;124m\"\u001b[39m:ny_cases})\n",
      "\u001b[0;31mNameError\u001b[0m: name 'ky_cases' is not defined"
     ]
    }
   ],
   "source": [
    "compare_ts = pd.DataFrame({'KY':ky_cases,\n",
    "                          \"NY\":ny_cases})"
   ]
  },
  {
   "cell_type": "code",
   "execution_count": 43,
   "id": "b2b4d60d",
   "metadata": {},
   "outputs": [
    {
     "ename": "NameError",
     "evalue": "name 'compare_ts' is not defined",
     "output_type": "error",
     "traceback": [
      "\u001b[0;31m---------------------------------------------------------------------------\u001b[0m",
      "\u001b[0;31mNameError\u001b[0m                                 Traceback (most recent call last)",
      "Cell \u001b[0;32mIn [43], line 1\u001b[0m\n\u001b[0;32m----> 1\u001b[0m \u001b[43mcompare_ts\u001b[49m\u001b[38;5;241m.\u001b[39mplot()\n",
      "\u001b[0;31mNameError\u001b[0m: name 'compare_ts' is not defined"
     ]
    }
   ],
   "source": [
    "compare_ts.plot();"
   ]
  },
  {
   "cell_type": "markdown",
   "id": "a7edde6a",
   "metadata": {},
   "source": [
    "Comparing Kentucky and New York cumulative cases makes it look like NY is ~3-4 times worse off than Kentucky.\n",
    "But is this a fair conclusion?\n",
    "Let's examine the differenced # of cases and see if changing to non-cumulative values makes a difference."
   ]
  },
  {
   "cell_type": "code",
   "execution_count": 44,
   "id": "6fcae7fc",
   "metadata": {},
   "outputs": [
    {
     "ename": "NameError",
     "evalue": "name 'compare_ts' is not defined",
     "output_type": "error",
     "traceback": [
      "\u001b[0;31m---------------------------------------------------------------------------\u001b[0m",
      "\u001b[0;31mNameError\u001b[0m                                 Traceback (most recent call last)",
      "Cell \u001b[0;32mIn [44], line 1\u001b[0m\n\u001b[0;32m----> 1\u001b[0m compare_diff \u001b[38;5;241m=\u001b[39m \u001b[43mcompare_ts\u001b[49m\u001b[38;5;241m.\u001b[39mdiff()\u001b[38;5;241m.\u001b[39mdropna()\n\u001b[1;32m      2\u001b[0m compare_diff\n",
      "\u001b[0;31mNameError\u001b[0m: name 'compare_ts' is not defined"
     ]
    }
   ],
   "source": [
    "compare_diff = compare_ts.diff().dropna()\n",
    "compare_diff"
   ]
  },
  {
   "cell_type": "code",
   "execution_count": 45,
   "id": "c3189221",
   "metadata": {},
   "outputs": [
    {
     "ename": "NameError",
     "evalue": "name 'compare_diff' is not defined",
     "output_type": "error",
     "traceback": [
      "\u001b[0;31m---------------------------------------------------------------------------\u001b[0m",
      "\u001b[0;31mNameError\u001b[0m                                 Traceback (most recent call last)",
      "Cell \u001b[0;32mIn [45], line 1\u001b[0m\n\u001b[0;32m----> 1\u001b[0m \u001b[43mcompare_diff\u001b[49m\u001b[38;5;241m.\u001b[39mplot()\n",
      "\u001b[0;31mNameError\u001b[0m: name 'compare_diff' is not defined"
     ]
    }
   ],
   "source": [
    "compare_diff.plot();\n"
   ]
  },
  {
   "cell_type": "markdown",
   "id": "2ad35b55",
   "metadata": {},
   "source": [
    "New York still has many more cases than Kentucky. But, considering the difference in population, does it makes sense that NY would have higher values?\n",
    "What if we normalized the daily case counts so that we visualize the percent change from the previous day (instead of the raw # of cases)?\n",
    "Pandas has a .pct_change() method that will calculate this for us!\n",
    "## ts.pct_change()"
   ]
  },
  {
   "cell_type": "code",
   "execution_count": 46,
   "id": "e931b880",
   "metadata": {},
   "outputs": [
    {
     "ename": "NameError",
     "evalue": "name 'compare_ts' is not defined",
     "output_type": "error",
     "traceback": [
      "\u001b[0;31m---------------------------------------------------------------------------\u001b[0m",
      "\u001b[0;31mNameError\u001b[0m                                 Traceback (most recent call last)",
      "Cell \u001b[0;32mIn [46], line 1\u001b[0m\n\u001b[0;32m----> 1\u001b[0m compare_pct \u001b[38;5;241m=\u001b[39m \u001b[43mcompare_ts\u001b[49m\u001b[38;5;241m.\u001b[39mpct_change(freq\u001b[38;5;241m=\u001b[39m\u001b[38;5;124m'\u001b[39m\u001b[38;5;124mD\u001b[39m\u001b[38;5;124m'\u001b[39m)\n\u001b[1;32m      2\u001b[0m compare_pct\n",
      "\u001b[0;31mNameError\u001b[0m: name 'compare_ts' is not defined"
     ]
    }
   ],
   "source": [
    "compare_pct = compare_ts.pct_change(freq='D')\n",
    "compare_pct"
   ]
  },
  {
   "cell_type": "markdown",
   "id": "8f03645c",
   "metadata": {},
   "source": [
    "Note: the name pct_change is slightly misleading, as we do not get the actual %'s but the ratio out of 1.\n",
    "Multiple by 100 to get the actual percentage value."
   ]
  },
  {
   "cell_type": "code",
   "execution_count": 47,
   "id": "78c68d11",
   "metadata": {},
   "outputs": [
    {
     "ename": "NameError",
     "evalue": "name 'compare_ts' is not defined",
     "output_type": "error",
     "traceback": [
      "\u001b[0;31m---------------------------------------------------------------------------\u001b[0m",
      "\u001b[0;31mNameError\u001b[0m                                 Traceback (most recent call last)",
      "Cell \u001b[0;32mIn [47], line 1\u001b[0m\n\u001b[0;32m----> 1\u001b[0m compare_pct \u001b[38;5;241m=\u001b[39m \u001b[43mcompare_ts\u001b[49m\u001b[38;5;241m.\u001b[39mpct_change(freq\u001b[38;5;241m=\u001b[39m\u001b[38;5;124m'\u001b[39m\u001b[38;5;124mD\u001b[39m\u001b[38;5;124m'\u001b[39m)\u001b[38;5;241m*\u001b[39m\u001b[38;5;241m100\u001b[39m\n\u001b[1;32m      2\u001b[0m compare_pct\n",
      "\u001b[0;31mNameError\u001b[0m: name 'compare_ts' is not defined"
     ]
    }
   ],
   "source": [
    "compare_pct = compare_ts.pct_change(freq='D')*100\n",
    "compare_pct"
   ]
  },
  {
   "cell_type": "markdown",
   "id": "8608c04f",
   "metadata": {},
   "source": [
    "It makes sense that there would be some giant spikes in the percent change early in the pandemic. Let's cut out the earliest data from our visualization."
   ]
  },
  {
   "cell_type": "code",
   "execution_count": 48,
   "id": "95620566",
   "metadata": {},
   "outputs": [
    {
     "ename": "NameError",
     "evalue": "name 'compare_pct' is not defined",
     "output_type": "error",
     "traceback": [
      "\u001b[0;31m---------------------------------------------------------------------------\u001b[0m",
      "\u001b[0;31mNameError\u001b[0m                                 Traceback (most recent call last)",
      "Cell \u001b[0;32mIn [48], line 1\u001b[0m\n\u001b[0;32m----> 1\u001b[0m plot_ts \u001b[38;5;241m=\u001b[39m \u001b[43mcompare_pct\u001b[49m\u001b[38;5;241m.\u001b[39mloc[\u001b[38;5;124m'\u001b[39m\u001b[38;5;124m07/2021\u001b[39m\u001b[38;5;124m'\u001b[39m:]\n\u001b[1;32m      2\u001b[0m plot_ts\n",
      "\u001b[0;31mNameError\u001b[0m: name 'compare_pct' is not defined"
     ]
    }
   ],
   "source": [
    "plot_ts = compare_pct.loc['07/2021':]\n",
    "plot_ts"
   ]
  },
  {
   "cell_type": "code",
   "execution_count": 49,
   "id": "dad211ad",
   "metadata": {},
   "outputs": [
    {
     "ename": "NameError",
     "evalue": "name 'plot_ts' is not defined",
     "output_type": "error",
     "traceback": [
      "\u001b[0;31m---------------------------------------------------------------------------\u001b[0m",
      "\u001b[0;31mNameError\u001b[0m                                 Traceback (most recent call last)",
      "Cell \u001b[0;32mIn [49], line 1\u001b[0m\n\u001b[0;32m----> 1\u001b[0m ax \u001b[38;5;241m=\u001b[39m \u001b[43mplot_ts\u001b[49m\u001b[38;5;241m.\u001b[39mplot(title\u001b[38;5;241m=\u001b[39m\u001b[38;5;124m'\u001b[39m\u001b[38;5;124m%\u001b[39m\u001b[38;5;124m Change in Cases\u001b[39m\u001b[38;5;124m'\u001b[39m,ylabel\u001b[38;5;241m=\u001b[39m\u001b[38;5;124m'\u001b[39m\u001b[38;5;124m%\u001b[39m\u001b[38;5;124m'\u001b[39m)\n",
      "\u001b[0;31mNameError\u001b[0m: name 'plot_ts' is not defined"
     ]
    }
   ],
   "source": [
    "ax = plot_ts.plot(title='% Change in Cases',ylabel='%')\n"
   ]
  },
  {
   "cell_type": "markdown",
   "id": "0318da5e",
   "metadata": {},
   "source": [
    "Taking a rolling mean for visibility and compare against our original data.\n"
   ]
  },
  {
   "cell_type": "code",
   "execution_count": 50,
   "id": "8b9852e1",
   "metadata": {},
   "outputs": [
    {
     "ename": "NameError",
     "evalue": "name 'compare_ts' is not defined",
     "output_type": "error",
     "traceback": [
      "\u001b[0;31m---------------------------------------------------------------------------\u001b[0m",
      "\u001b[0;31mNameError\u001b[0m                                 Traceback (most recent call last)",
      "Cell \u001b[0;32mIn [50], line 1\u001b[0m\n\u001b[0;32m----> 1\u001b[0m \u001b[43mcompare_ts\u001b[49m\u001b[38;5;241m.\u001b[39mloc[\u001b[38;5;124m'\u001b[39m\u001b[38;5;124m07/2021\u001b[39m\u001b[38;5;124m'\u001b[39m:]\u001b[38;5;241m.\u001b[39mplot(title\u001b[38;5;241m=\u001b[39m\u001b[38;5;124m'\u001b[39m\u001b[38;5;124mOriginal Data - Cumulative Counts\u001b[39m\u001b[38;5;124m'\u001b[39m)\n",
      "\u001b[0;31mNameError\u001b[0m: name 'compare_ts' is not defined"
     ]
    }
   ],
   "source": [
    "compare_ts.loc['07/2021':].plot(title='Original Data - Cumulative Counts');\n"
   ]
  },
  {
   "cell_type": "code",
   "execution_count": 51,
   "id": "7c49f551",
   "metadata": {},
   "outputs": [
    {
     "ename": "NameError",
     "evalue": "name 'plot_ts' is not defined",
     "output_type": "error",
     "traceback": [
      "\u001b[0;31m---------------------------------------------------------------------------\u001b[0m",
      "\u001b[0;31mNameError\u001b[0m                                 Traceback (most recent call last)",
      "Cell \u001b[0;32mIn [51], line 1\u001b[0m\n\u001b[0;32m----> 1\u001b[0m ax \u001b[38;5;241m=\u001b[39m \u001b[43mplot_ts\u001b[49m\u001b[38;5;241m.\u001b[39mplot(title\u001b[38;5;241m=\u001b[39m\u001b[38;5;124m'\u001b[39m\u001b[38;5;124m%\u001b[39m\u001b[38;5;124m Change in Cases\u001b[39m\u001b[38;5;124m'\u001b[39m,ylabel\u001b[38;5;241m=\u001b[39m\u001b[38;5;124m'\u001b[39m\u001b[38;5;124m%\u001b[39m\u001b[38;5;124m'\u001b[39m)\n",
      "\u001b[0;31mNameError\u001b[0m: name 'plot_ts' is not defined"
     ]
    }
   ],
   "source": [
    "ax = plot_ts.plot(title='% Change in Cases',ylabel='%')\n"
   ]
  },
  {
   "cell_type": "markdown",
   "id": "52695883",
   "metadata": {},
   "source": [
    "Taking a rolling mean for visibility and compare against our original data.\n"
   ]
  },
  {
   "cell_type": "code",
   "execution_count": 52,
   "id": "6ca8f9ee",
   "metadata": {},
   "outputs": [
    {
     "ename": "NameError",
     "evalue": "name 'compare_ts' is not defined",
     "output_type": "error",
     "traceback": [
      "\u001b[0;31m---------------------------------------------------------------------------\u001b[0m",
      "\u001b[0;31mNameError\u001b[0m                                 Traceback (most recent call last)",
      "Cell \u001b[0;32mIn [52], line 1\u001b[0m\n\u001b[0;32m----> 1\u001b[0m \u001b[43mcompare_ts\u001b[49m\u001b[38;5;241m.\u001b[39mloc[\u001b[38;5;124m'\u001b[39m\u001b[38;5;124m07/2021\u001b[39m\u001b[38;5;124m'\u001b[39m:]\u001b[38;5;241m.\u001b[39mplot(title\u001b[38;5;241m=\u001b[39m\u001b[38;5;124m'\u001b[39m\u001b[38;5;124mOriginal Data - Cumulative Counts\u001b[39m\u001b[38;5;124m'\u001b[39m)\n",
      "\u001b[0;31mNameError\u001b[0m: name 'compare_ts' is not defined"
     ]
    }
   ],
   "source": [
    "compare_ts.loc['07/2021':].plot(title='Original Data - Cumulative Counts');\n",
    "\n"
   ]
  },
  {
   "cell_type": "code",
   "execution_count": 53,
   "id": "76a6376a",
   "metadata": {},
   "outputs": [
    {
     "ename": "NameError",
     "evalue": "name 'compare_diff' is not defined",
     "output_type": "error",
     "traceback": [
      "\u001b[0;31m---------------------------------------------------------------------------\u001b[0m",
      "\u001b[0;31mNameError\u001b[0m                                 Traceback (most recent call last)",
      "Cell \u001b[0;32mIn [53], line 1\u001b[0m\n\u001b[0;32m----> 1\u001b[0m \u001b[43mcompare_diff\u001b[49m\u001b[38;5;241m.\u001b[39mloc[\u001b[38;5;124m'\u001b[39m\u001b[38;5;124m07/2021\u001b[39m\u001b[38;5;124m'\u001b[39m:]\u001b[38;5;241m.\u001b[39mrolling(\u001b[38;5;241m7\u001b[39m)\u001b[38;5;241m.\u001b[39mmean()\u001b[38;5;241m.\u001b[39mplot(title\u001b[38;5;241m=\u001b[39m\u001b[38;5;124m'\u001b[39m\u001b[38;5;124mNew Cases\u001b[39m\u001b[38;5;124m'\u001b[39m)\n",
      "\u001b[0;31mNameError\u001b[0m: name 'compare_diff' is not defined"
     ]
    }
   ],
   "source": [
    "compare_diff.loc['07/2021':].rolling(7).mean().plot(title='New Cases');\n",
    "\n"
   ]
  },
  {
   "cell_type": "code",
   "execution_count": 54,
   "id": "dd73c5d9",
   "metadata": {},
   "outputs": [
    {
     "ename": "NameError",
     "evalue": "name 'compare_pct' is not defined",
     "output_type": "error",
     "traceback": [
      "\u001b[0;31m---------------------------------------------------------------------------\u001b[0m",
      "\u001b[0;31mNameError\u001b[0m                                 Traceback (most recent call last)",
      "Cell \u001b[0;32mIn [54], line 1\u001b[0m\n\u001b[0;32m----> 1\u001b[0m plot_ts \u001b[38;5;241m=\u001b[39m \u001b[43mcompare_pct\u001b[49m\u001b[38;5;241m.\u001b[39mloc[\u001b[38;5;124m'\u001b[39m\u001b[38;5;124m07/2021\u001b[39m\u001b[38;5;124m'\u001b[39m:]\u001b[38;5;241m.\u001b[39mrolling(window)\u001b[38;5;241m.\u001b[39mmean()\n\u001b[1;32m      2\u001b[0m plot_ts\u001b[38;5;241m.\u001b[39mplot(title\u001b[38;5;241m=\u001b[39m\u001b[38;5;124m'\u001b[39m\u001b[38;5;124m%\u001b[39m\u001b[38;5;124m Change - 7 Day Moving Average\u001b[39m\u001b[38;5;124m'\u001b[39m)\n",
      "\u001b[0;31mNameError\u001b[0m: name 'compare_pct' is not defined"
     ]
    }
   ],
   "source": [
    "plot_ts = compare_pct.loc['07/2021':].rolling(window).mean()\n",
    "plot_ts.plot(title='% Change - 7 Day Moving Average');"
   ]
  },
  {
   "cell_type": "markdown",
   "id": "01cd8ce9",
   "metadata": {},
   "source": [
    "Now that is a much more fair comparison! Here we can see that while NY had a higher percentage change vs KY at some points, there were also times when KY had a higher % change.\n",
    "## Normalizing by Population\n",
    "Let's try normalizing the case counts using the state population.\n",
    "A popular approach to this is to normalize the values to per 100,000 people (instead of per person))\n",
    "Since our Covid dataset does not include population, we will have to obtain this from another data set and merge it with our Covid data.\n",
    "We will use a Census dataset from Kaggle: 2019 Census US Population Data"
   ]
  },
  {
   "cell_type": "code",
   "execution_count": 55,
   "id": "d357004c",
   "metadata": {},
   "outputs": [
    {
     "ename": "FileNotFoundError",
     "evalue": "[Errno 2] No such file or directory: 'YOUR PATH'",
     "output_type": "error",
     "traceback": [
      "\u001b[0;31m---------------------------------------------------------------------------\u001b[0m",
      "\u001b[0;31mFileNotFoundError\u001b[0m                         Traceback (most recent call last)",
      "Cell \u001b[0;32mIn [55], line 1\u001b[0m\n\u001b[0;32m----> 1\u001b[0m us_pop \u001b[38;5;241m=\u001b[39m \u001b[43mpd\u001b[49m\u001b[38;5;241;43m.\u001b[39;49m\u001b[43mread_csv\u001b[49m\u001b[43m(\u001b[49m\u001b[38;5;124;43m'\u001b[39;49m\u001b[38;5;124;43mYOUR PATH\u001b[39;49m\u001b[38;5;124;43m'\u001b[39;49m\u001b[43m)\u001b[49m\n\u001b[1;32m      2\u001b[0m us_pop\u001b[38;5;241m.\u001b[39mhead()\n",
      "File \u001b[0;32m/opt/homebrew/Caskroom/miniforge/base/envs/dojo-env/lib/python3.9/site-packages/pandas/util/_decorators.py:211\u001b[0m, in \u001b[0;36mdeprecate_kwarg.<locals>._deprecate_kwarg.<locals>.wrapper\u001b[0;34m(*args, **kwargs)\u001b[0m\n\u001b[1;32m    209\u001b[0m     \u001b[38;5;28;01melse\u001b[39;00m:\n\u001b[1;32m    210\u001b[0m         kwargs[new_arg_name] \u001b[38;5;241m=\u001b[39m new_arg_value\n\u001b[0;32m--> 211\u001b[0m \u001b[38;5;28;01mreturn\u001b[39;00m \u001b[43mfunc\u001b[49m\u001b[43m(\u001b[49m\u001b[38;5;241;43m*\u001b[39;49m\u001b[43margs\u001b[49m\u001b[43m,\u001b[49m\u001b[43m \u001b[49m\u001b[38;5;241;43m*\u001b[39;49m\u001b[38;5;241;43m*\u001b[39;49m\u001b[43mkwargs\u001b[49m\u001b[43m)\u001b[49m\n",
      "File \u001b[0;32m/opt/homebrew/Caskroom/miniforge/base/envs/dojo-env/lib/python3.9/site-packages/pandas/util/_decorators.py:331\u001b[0m, in \u001b[0;36mdeprecate_nonkeyword_arguments.<locals>.decorate.<locals>.wrapper\u001b[0;34m(*args, **kwargs)\u001b[0m\n\u001b[1;32m    325\u001b[0m \u001b[38;5;28;01mif\u001b[39;00m \u001b[38;5;28mlen\u001b[39m(args) \u001b[38;5;241m>\u001b[39m num_allow_args:\n\u001b[1;32m    326\u001b[0m     warnings\u001b[38;5;241m.\u001b[39mwarn(\n\u001b[1;32m    327\u001b[0m         msg\u001b[38;5;241m.\u001b[39mformat(arguments\u001b[38;5;241m=\u001b[39m_format_argument_list(allow_args)),\n\u001b[1;32m    328\u001b[0m         \u001b[38;5;167;01mFutureWarning\u001b[39;00m,\n\u001b[1;32m    329\u001b[0m         stacklevel\u001b[38;5;241m=\u001b[39mfind_stack_level(),\n\u001b[1;32m    330\u001b[0m     )\n\u001b[0;32m--> 331\u001b[0m \u001b[38;5;28;01mreturn\u001b[39;00m \u001b[43mfunc\u001b[49m\u001b[43m(\u001b[49m\u001b[38;5;241;43m*\u001b[39;49m\u001b[43margs\u001b[49m\u001b[43m,\u001b[49m\u001b[43m \u001b[49m\u001b[38;5;241;43m*\u001b[39;49m\u001b[38;5;241;43m*\u001b[39;49m\u001b[43mkwargs\u001b[49m\u001b[43m)\u001b[49m\n",
      "File \u001b[0;32m/opt/homebrew/Caskroom/miniforge/base/envs/dojo-env/lib/python3.9/site-packages/pandas/io/parsers/readers.py:950\u001b[0m, in \u001b[0;36mread_csv\u001b[0;34m(filepath_or_buffer, sep, delimiter, header, names, index_col, usecols, squeeze, prefix, mangle_dupe_cols, dtype, engine, converters, true_values, false_values, skipinitialspace, skiprows, skipfooter, nrows, na_values, keep_default_na, na_filter, verbose, skip_blank_lines, parse_dates, infer_datetime_format, keep_date_col, date_parser, dayfirst, cache_dates, iterator, chunksize, compression, thousands, decimal, lineterminator, quotechar, quoting, doublequote, escapechar, comment, encoding, encoding_errors, dialect, error_bad_lines, warn_bad_lines, on_bad_lines, delim_whitespace, low_memory, memory_map, float_precision, storage_options)\u001b[0m\n\u001b[1;32m    935\u001b[0m kwds_defaults \u001b[38;5;241m=\u001b[39m _refine_defaults_read(\n\u001b[1;32m    936\u001b[0m     dialect,\n\u001b[1;32m    937\u001b[0m     delimiter,\n\u001b[0;32m   (...)\u001b[0m\n\u001b[1;32m    946\u001b[0m     defaults\u001b[38;5;241m=\u001b[39m{\u001b[38;5;124m\"\u001b[39m\u001b[38;5;124mdelimiter\u001b[39m\u001b[38;5;124m\"\u001b[39m: \u001b[38;5;124m\"\u001b[39m\u001b[38;5;124m,\u001b[39m\u001b[38;5;124m\"\u001b[39m},\n\u001b[1;32m    947\u001b[0m )\n\u001b[1;32m    948\u001b[0m kwds\u001b[38;5;241m.\u001b[39mupdate(kwds_defaults)\n\u001b[0;32m--> 950\u001b[0m \u001b[38;5;28;01mreturn\u001b[39;00m \u001b[43m_read\u001b[49m\u001b[43m(\u001b[49m\u001b[43mfilepath_or_buffer\u001b[49m\u001b[43m,\u001b[49m\u001b[43m \u001b[49m\u001b[43mkwds\u001b[49m\u001b[43m)\u001b[49m\n",
      "File \u001b[0;32m/opt/homebrew/Caskroom/miniforge/base/envs/dojo-env/lib/python3.9/site-packages/pandas/io/parsers/readers.py:605\u001b[0m, in \u001b[0;36m_read\u001b[0;34m(filepath_or_buffer, kwds)\u001b[0m\n\u001b[1;32m    602\u001b[0m _validate_names(kwds\u001b[38;5;241m.\u001b[39mget(\u001b[38;5;124m\"\u001b[39m\u001b[38;5;124mnames\u001b[39m\u001b[38;5;124m\"\u001b[39m, \u001b[38;5;28;01mNone\u001b[39;00m))\n\u001b[1;32m    604\u001b[0m \u001b[38;5;66;03m# Create the parser.\u001b[39;00m\n\u001b[0;32m--> 605\u001b[0m parser \u001b[38;5;241m=\u001b[39m \u001b[43mTextFileReader\u001b[49m\u001b[43m(\u001b[49m\u001b[43mfilepath_or_buffer\u001b[49m\u001b[43m,\u001b[49m\u001b[43m \u001b[49m\u001b[38;5;241;43m*\u001b[39;49m\u001b[38;5;241;43m*\u001b[39;49m\u001b[43mkwds\u001b[49m\u001b[43m)\u001b[49m\n\u001b[1;32m    607\u001b[0m \u001b[38;5;28;01mif\u001b[39;00m chunksize \u001b[38;5;129;01mor\u001b[39;00m iterator:\n\u001b[1;32m    608\u001b[0m     \u001b[38;5;28;01mreturn\u001b[39;00m parser\n",
      "File \u001b[0;32m/opt/homebrew/Caskroom/miniforge/base/envs/dojo-env/lib/python3.9/site-packages/pandas/io/parsers/readers.py:1442\u001b[0m, in \u001b[0;36mTextFileReader.__init__\u001b[0;34m(self, f, engine, **kwds)\u001b[0m\n\u001b[1;32m   1439\u001b[0m     \u001b[38;5;28mself\u001b[39m\u001b[38;5;241m.\u001b[39moptions[\u001b[38;5;124m\"\u001b[39m\u001b[38;5;124mhas_index_names\u001b[39m\u001b[38;5;124m\"\u001b[39m] \u001b[38;5;241m=\u001b[39m kwds[\u001b[38;5;124m\"\u001b[39m\u001b[38;5;124mhas_index_names\u001b[39m\u001b[38;5;124m\"\u001b[39m]\n\u001b[1;32m   1441\u001b[0m \u001b[38;5;28mself\u001b[39m\u001b[38;5;241m.\u001b[39mhandles: IOHandles \u001b[38;5;241m|\u001b[39m \u001b[38;5;28;01mNone\u001b[39;00m \u001b[38;5;241m=\u001b[39m \u001b[38;5;28;01mNone\u001b[39;00m\n\u001b[0;32m-> 1442\u001b[0m \u001b[38;5;28mself\u001b[39m\u001b[38;5;241m.\u001b[39m_engine \u001b[38;5;241m=\u001b[39m \u001b[38;5;28;43mself\u001b[39;49m\u001b[38;5;241;43m.\u001b[39;49m\u001b[43m_make_engine\u001b[49m\u001b[43m(\u001b[49m\u001b[43mf\u001b[49m\u001b[43m,\u001b[49m\u001b[43m \u001b[49m\u001b[38;5;28;43mself\u001b[39;49m\u001b[38;5;241;43m.\u001b[39;49m\u001b[43mengine\u001b[49m\u001b[43m)\u001b[49m\n",
      "File \u001b[0;32m/opt/homebrew/Caskroom/miniforge/base/envs/dojo-env/lib/python3.9/site-packages/pandas/io/parsers/readers.py:1735\u001b[0m, in \u001b[0;36mTextFileReader._make_engine\u001b[0;34m(self, f, engine)\u001b[0m\n\u001b[1;32m   1733\u001b[0m     \u001b[38;5;28;01mif\u001b[39;00m \u001b[38;5;124m\"\u001b[39m\u001b[38;5;124mb\u001b[39m\u001b[38;5;124m\"\u001b[39m \u001b[38;5;129;01mnot\u001b[39;00m \u001b[38;5;129;01min\u001b[39;00m mode:\n\u001b[1;32m   1734\u001b[0m         mode \u001b[38;5;241m+\u001b[39m\u001b[38;5;241m=\u001b[39m \u001b[38;5;124m\"\u001b[39m\u001b[38;5;124mb\u001b[39m\u001b[38;5;124m\"\u001b[39m\n\u001b[0;32m-> 1735\u001b[0m \u001b[38;5;28mself\u001b[39m\u001b[38;5;241m.\u001b[39mhandles \u001b[38;5;241m=\u001b[39m \u001b[43mget_handle\u001b[49m\u001b[43m(\u001b[49m\n\u001b[1;32m   1736\u001b[0m \u001b[43m    \u001b[49m\u001b[43mf\u001b[49m\u001b[43m,\u001b[49m\n\u001b[1;32m   1737\u001b[0m \u001b[43m    \u001b[49m\u001b[43mmode\u001b[49m\u001b[43m,\u001b[49m\n\u001b[1;32m   1738\u001b[0m \u001b[43m    \u001b[49m\u001b[43mencoding\u001b[49m\u001b[38;5;241;43m=\u001b[39;49m\u001b[38;5;28;43mself\u001b[39;49m\u001b[38;5;241;43m.\u001b[39;49m\u001b[43moptions\u001b[49m\u001b[38;5;241;43m.\u001b[39;49m\u001b[43mget\u001b[49m\u001b[43m(\u001b[49m\u001b[38;5;124;43m\"\u001b[39;49m\u001b[38;5;124;43mencoding\u001b[39;49m\u001b[38;5;124;43m\"\u001b[39;49m\u001b[43m,\u001b[49m\u001b[43m \u001b[49m\u001b[38;5;28;43;01mNone\u001b[39;49;00m\u001b[43m)\u001b[49m\u001b[43m,\u001b[49m\n\u001b[1;32m   1739\u001b[0m \u001b[43m    \u001b[49m\u001b[43mcompression\u001b[49m\u001b[38;5;241;43m=\u001b[39;49m\u001b[38;5;28;43mself\u001b[39;49m\u001b[38;5;241;43m.\u001b[39;49m\u001b[43moptions\u001b[49m\u001b[38;5;241;43m.\u001b[39;49m\u001b[43mget\u001b[49m\u001b[43m(\u001b[49m\u001b[38;5;124;43m\"\u001b[39;49m\u001b[38;5;124;43mcompression\u001b[39;49m\u001b[38;5;124;43m\"\u001b[39;49m\u001b[43m,\u001b[49m\u001b[43m \u001b[49m\u001b[38;5;28;43;01mNone\u001b[39;49;00m\u001b[43m)\u001b[49m\u001b[43m,\u001b[49m\n\u001b[1;32m   1740\u001b[0m \u001b[43m    \u001b[49m\u001b[43mmemory_map\u001b[49m\u001b[38;5;241;43m=\u001b[39;49m\u001b[38;5;28;43mself\u001b[39;49m\u001b[38;5;241;43m.\u001b[39;49m\u001b[43moptions\u001b[49m\u001b[38;5;241;43m.\u001b[39;49m\u001b[43mget\u001b[49m\u001b[43m(\u001b[49m\u001b[38;5;124;43m\"\u001b[39;49m\u001b[38;5;124;43mmemory_map\u001b[39;49m\u001b[38;5;124;43m\"\u001b[39;49m\u001b[43m,\u001b[49m\u001b[43m \u001b[49m\u001b[38;5;28;43;01mFalse\u001b[39;49;00m\u001b[43m)\u001b[49m\u001b[43m,\u001b[49m\n\u001b[1;32m   1741\u001b[0m \u001b[43m    \u001b[49m\u001b[43mis_text\u001b[49m\u001b[38;5;241;43m=\u001b[39;49m\u001b[43mis_text\u001b[49m\u001b[43m,\u001b[49m\n\u001b[1;32m   1742\u001b[0m \u001b[43m    \u001b[49m\u001b[43merrors\u001b[49m\u001b[38;5;241;43m=\u001b[39;49m\u001b[38;5;28;43mself\u001b[39;49m\u001b[38;5;241;43m.\u001b[39;49m\u001b[43moptions\u001b[49m\u001b[38;5;241;43m.\u001b[39;49m\u001b[43mget\u001b[49m\u001b[43m(\u001b[49m\u001b[38;5;124;43m\"\u001b[39;49m\u001b[38;5;124;43mencoding_errors\u001b[39;49m\u001b[38;5;124;43m\"\u001b[39;49m\u001b[43m,\u001b[49m\u001b[43m \u001b[49m\u001b[38;5;124;43m\"\u001b[39;49m\u001b[38;5;124;43mstrict\u001b[39;49m\u001b[38;5;124;43m\"\u001b[39;49m\u001b[43m)\u001b[49m\u001b[43m,\u001b[49m\n\u001b[1;32m   1743\u001b[0m \u001b[43m    \u001b[49m\u001b[43mstorage_options\u001b[49m\u001b[38;5;241;43m=\u001b[39;49m\u001b[38;5;28;43mself\u001b[39;49m\u001b[38;5;241;43m.\u001b[39;49m\u001b[43moptions\u001b[49m\u001b[38;5;241;43m.\u001b[39;49m\u001b[43mget\u001b[49m\u001b[43m(\u001b[49m\u001b[38;5;124;43m\"\u001b[39;49m\u001b[38;5;124;43mstorage_options\u001b[39;49m\u001b[38;5;124;43m\"\u001b[39;49m\u001b[43m,\u001b[49m\u001b[43m \u001b[49m\u001b[38;5;28;43;01mNone\u001b[39;49;00m\u001b[43m)\u001b[49m\u001b[43m,\u001b[49m\n\u001b[1;32m   1744\u001b[0m \u001b[43m\u001b[49m\u001b[43m)\u001b[49m\n\u001b[1;32m   1745\u001b[0m \u001b[38;5;28;01massert\u001b[39;00m \u001b[38;5;28mself\u001b[39m\u001b[38;5;241m.\u001b[39mhandles \u001b[38;5;129;01mis\u001b[39;00m \u001b[38;5;129;01mnot\u001b[39;00m \u001b[38;5;28;01mNone\u001b[39;00m\n\u001b[1;32m   1746\u001b[0m f \u001b[38;5;241m=\u001b[39m \u001b[38;5;28mself\u001b[39m\u001b[38;5;241m.\u001b[39mhandles\u001b[38;5;241m.\u001b[39mhandle\n",
      "File \u001b[0;32m/opt/homebrew/Caskroom/miniforge/base/envs/dojo-env/lib/python3.9/site-packages/pandas/io/common.py:856\u001b[0m, in \u001b[0;36mget_handle\u001b[0;34m(path_or_buf, mode, encoding, compression, memory_map, is_text, errors, storage_options)\u001b[0m\n\u001b[1;32m    851\u001b[0m \u001b[38;5;28;01melif\u001b[39;00m \u001b[38;5;28misinstance\u001b[39m(handle, \u001b[38;5;28mstr\u001b[39m):\n\u001b[1;32m    852\u001b[0m     \u001b[38;5;66;03m# Check whether the filename is to be opened in binary mode.\u001b[39;00m\n\u001b[1;32m    853\u001b[0m     \u001b[38;5;66;03m# Binary mode does not support 'encoding' and 'newline'.\u001b[39;00m\n\u001b[1;32m    854\u001b[0m     \u001b[38;5;28;01mif\u001b[39;00m ioargs\u001b[38;5;241m.\u001b[39mencoding \u001b[38;5;129;01mand\u001b[39;00m \u001b[38;5;124m\"\u001b[39m\u001b[38;5;124mb\u001b[39m\u001b[38;5;124m\"\u001b[39m \u001b[38;5;129;01mnot\u001b[39;00m \u001b[38;5;129;01min\u001b[39;00m ioargs\u001b[38;5;241m.\u001b[39mmode:\n\u001b[1;32m    855\u001b[0m         \u001b[38;5;66;03m# Encoding\u001b[39;00m\n\u001b[0;32m--> 856\u001b[0m         handle \u001b[38;5;241m=\u001b[39m \u001b[38;5;28;43mopen\u001b[39;49m\u001b[43m(\u001b[49m\n\u001b[1;32m    857\u001b[0m \u001b[43m            \u001b[49m\u001b[43mhandle\u001b[49m\u001b[43m,\u001b[49m\n\u001b[1;32m    858\u001b[0m \u001b[43m            \u001b[49m\u001b[43mioargs\u001b[49m\u001b[38;5;241;43m.\u001b[39;49m\u001b[43mmode\u001b[49m\u001b[43m,\u001b[49m\n\u001b[1;32m    859\u001b[0m \u001b[43m            \u001b[49m\u001b[43mencoding\u001b[49m\u001b[38;5;241;43m=\u001b[39;49m\u001b[43mioargs\u001b[49m\u001b[38;5;241;43m.\u001b[39;49m\u001b[43mencoding\u001b[49m\u001b[43m,\u001b[49m\n\u001b[1;32m    860\u001b[0m \u001b[43m            \u001b[49m\u001b[43merrors\u001b[49m\u001b[38;5;241;43m=\u001b[39;49m\u001b[43merrors\u001b[49m\u001b[43m,\u001b[49m\n\u001b[1;32m    861\u001b[0m \u001b[43m            \u001b[49m\u001b[43mnewline\u001b[49m\u001b[38;5;241;43m=\u001b[39;49m\u001b[38;5;124;43m\"\u001b[39;49m\u001b[38;5;124;43m\"\u001b[39;49m\u001b[43m,\u001b[49m\n\u001b[1;32m    862\u001b[0m \u001b[43m        \u001b[49m\u001b[43m)\u001b[49m\n\u001b[1;32m    863\u001b[0m     \u001b[38;5;28;01melse\u001b[39;00m:\n\u001b[1;32m    864\u001b[0m         \u001b[38;5;66;03m# Binary mode\u001b[39;00m\n\u001b[1;32m    865\u001b[0m         handle \u001b[38;5;241m=\u001b[39m \u001b[38;5;28mopen\u001b[39m(handle, ioargs\u001b[38;5;241m.\u001b[39mmode)\n",
      "\u001b[0;31mFileNotFoundError\u001b[0m: [Errno 2] No such file or directory: 'YOUR PATH'"
     ]
    }
   ],
   "source": [
    "us_pop = pd.read_csv('YOUR PATH')\n",
    "us_pop.head()"
   ]
  },
  {
   "cell_type": "markdown",
   "id": "fefc0202",
   "metadata": {},
   "source": [
    "- In order to match the state population with the right abbreviation for the state, we need to either return to our original raw data and extract the mapping of Statename:state code OR we could acquire another file that has this information already paired."
   ]
  },
  {
   "cell_type": "code",
   "execution_count": 56,
   "id": "98446f22",
   "metadata": {},
   "outputs": [
    {
     "ename": "TypeError",
     "evalue": "'method' object is not subscriptable",
     "output_type": "error",
     "traceback": [
      "\u001b[0;31m---------------------------------------------------------------------------\u001b[0m",
      "\u001b[0;31mTypeError\u001b[0m                                 Traceback (most recent call last)",
      "Cell \u001b[0;32mIn [56], line 1\u001b[0m\n\u001b[0;32m----> 1\u001b[0m state_lookup \u001b[38;5;241m=\u001b[39m \u001b[43mdf\u001b[49m\u001b[43m[\u001b[49m\u001b[43m[\u001b[49m\u001b[38;5;124;43m'\u001b[39;49m\u001b[38;5;124;43mstate\u001b[39;49m\u001b[38;5;124;43m'\u001b[39;49m\u001b[43m,\u001b[49m\u001b[38;5;124;43m'\u001b[39;49m\u001b[38;5;124;43mstate_code\u001b[39;49m\u001b[38;5;124;43m'\u001b[39;49m\u001b[43m]\u001b[49m\u001b[43m]\u001b[49m\n\u001b[1;32m      2\u001b[0m state_lookup \u001b[38;5;241m=\u001b[39m state_lookup\u001b[38;5;241m.\u001b[39mdrop_duplicates(subset\u001b[38;5;241m=\u001b[39m[\u001b[38;5;124m'\u001b[39m\u001b[38;5;124mstate\u001b[39m\u001b[38;5;124m'\u001b[39m])\u001b[38;5;241m.\u001b[39mreset_index(drop\u001b[38;5;241m=\u001b[39m\u001b[38;5;28;01mTrue\u001b[39;00m)\n\u001b[1;32m      3\u001b[0m state_lookup\u001b[38;5;241m.\u001b[39mhead()\n",
      "\u001b[0;31mTypeError\u001b[0m: 'method' object is not subscriptable"
     ]
    }
   ],
   "source": [
    "state_lookup = df[['state','state_code']]\n",
    "state_lookup = state_lookup.drop_duplicates(subset=['state']).reset_index(drop=True)\n",
    "state_lookup.head()"
   ]
  },
  {
   "cell_type": "code",
   "execution_count": 57,
   "id": "c8643b77",
   "metadata": {},
   "outputs": [
    {
     "ename": "NameError",
     "evalue": "name 'us_pop' is not defined",
     "output_type": "error",
     "traceback": [
      "\u001b[0;31m---------------------------------------------------------------------------\u001b[0m",
      "\u001b[0;31mNameError\u001b[0m                                 Traceback (most recent call last)",
      "Cell \u001b[0;32mIn [57], line 2\u001b[0m\n\u001b[1;32m      1\u001b[0m \u001b[38;5;66;03m## merging the us pop with our state lookup\u001b[39;00m\n\u001b[0;32m----> 2\u001b[0m merged_pop \u001b[38;5;241m=\u001b[39m pd\u001b[38;5;241m.\u001b[39mmerge(\u001b[43mus_pop\u001b[49m[[\u001b[38;5;124m'\u001b[39m\u001b[38;5;124mSTATE\u001b[39m\u001b[38;5;124m'\u001b[39m,\u001b[38;5;124m'\u001b[39m\u001b[38;5;124mPOPESTIMATE2019\u001b[39m\u001b[38;5;124m'\u001b[39m]], state_lookup, left_on\u001b[38;5;241m=\u001b[39m\u001b[38;5;124m'\u001b[39m\u001b[38;5;124mSTATE\u001b[39m\u001b[38;5;124m'\u001b[39m, right_on\u001b[38;5;241m=\u001b[39m\u001b[38;5;124m'\u001b[39m\u001b[38;5;124mstate\u001b[39m\u001b[38;5;124m'\u001b[39m)\n\u001b[1;32m      3\u001b[0m \u001b[38;5;66;03m# merged_pop = merged_pop.drop(columns='state').set_index('state_code')\u001b[39;00m\n\u001b[1;32m      4\u001b[0m state_pop \u001b[38;5;241m=\u001b[39m merged_pop\u001b[38;5;241m.\u001b[39mset_index(\u001b[38;5;124m'\u001b[39m\u001b[38;5;124mstate_code\u001b[39m\u001b[38;5;124m'\u001b[39m)[\u001b[38;5;124m'\u001b[39m\u001b[38;5;124mPOPESTIMATE2019\u001b[39m\u001b[38;5;124m'\u001b[39m]\n",
      "\u001b[0;31mNameError\u001b[0m: name 'us_pop' is not defined"
     ]
    }
   ],
   "source": [
    "## merging the us pop with our state lookup\n",
    "merged_pop = pd.merge(us_pop[['STATE','POPESTIMATE2019']], state_lookup, left_on='STATE', right_on='state')\n",
    "# merged_pop = merged_pop.drop(columns='state').set_index('state_code')\n",
    "state_pop = merged_pop.set_index('state_code')['POPESTIMATE2019']\n",
    "state_pop.head()"
   ]
  },
  {
   "cell_type": "code",
   "execution_count": 58,
   "id": "0c871530",
   "metadata": {},
   "outputs": [
    {
     "ename": "NameError",
     "evalue": "name 'compare_ts' is not defined",
     "output_type": "error",
     "traceback": [
      "\u001b[0;31m---------------------------------------------------------------------------\u001b[0m",
      "\u001b[0;31mNameError\u001b[0m                                 Traceback (most recent call last)",
      "Cell \u001b[0;32mIn [58], line 2\u001b[0m\n\u001b[1;32m      1\u001b[0m \u001b[38;5;66;03m## example calc for KY\u001b[39;00m\n\u001b[0;32m----> 2\u001b[0m \u001b[43mcompare_ts\u001b[49m[\u001b[38;5;124m'\u001b[39m\u001b[38;5;124mKY\u001b[39m\u001b[38;5;124m'\u001b[39m]\u001b[38;5;241m/\u001b[39mstate_pop\u001b[38;5;241m.\u001b[39mloc[\u001b[38;5;124m'\u001b[39m\u001b[38;5;124mKY\u001b[39m\u001b[38;5;124m'\u001b[39m]\u001b[38;5;241m*\u001b[39m\u001b[38;5;241m100_000\u001b[39m\n",
      "\u001b[0;31mNameError\u001b[0m: name 'compare_ts' is not defined"
     ]
    }
   ],
   "source": [
    "## example calc for KY\n",
    "compare_ts['KY']/state_pop.loc['KY']*100_000"
   ]
  },
  {
   "cell_type": "markdown",
   "id": "3a95b75c",
   "metadata": {},
   "source": [
    "- Now let's use a for loop to calculate the population\n"
   ]
  },
  {
   "cell_type": "code",
   "execution_count": 60,
   "id": "344c09f2",
   "metadata": {},
   "outputs": [
    {
     "ename": "NameError",
     "evalue": "name 'compare_ts' is not defined",
     "output_type": "error",
     "traceback": [
      "\u001b[0;31m---------------------------------------------------------------------------\u001b[0m",
      "\u001b[0;31mNameError\u001b[0m                                 Traceback (most recent call last)",
      "Cell \u001b[0;32mIn [60], line 2\u001b[0m\n\u001b[1;32m      1\u001b[0m \u001b[38;5;66;03m## preparing all columns using loop\u001b[39;00m\n\u001b[0;32m----> 2\u001b[0m compare_pop \u001b[38;5;241m=\u001b[39m \u001b[43mcompare_ts\u001b[49m\u001b[38;5;241m.\u001b[39mcopy()\n\u001b[1;32m      3\u001b[0m \u001b[38;5;28;01mfor\u001b[39;00m col \u001b[38;5;129;01min\u001b[39;00m compare_ts\u001b[38;5;241m.\u001b[39mcolumns:\n\u001b[1;32m      4\u001b[0m     compare_pop[col] \u001b[38;5;241m=\u001b[39m( compare_pop[col] \u001b[38;5;241m/\u001b[39m state_pop\u001b[38;5;241m.\u001b[39mloc[col])\u001b[38;5;241m*\u001b[39m\u001b[38;5;241m100_000\u001b[39m\n",
      "\u001b[0;31mNameError\u001b[0m: name 'compare_ts' is not defined"
     ]
    }
   ],
   "source": [
    "## preparing all columns using loop\n",
    "compare_pop = compare_ts.copy()\n",
    "for col in compare_ts.columns:\n",
    "    compare_pop[col] =( compare_pop[col] / state_pop.loc[col])*100_000\n",
    "compare_pop"
   ]
  },
  {
   "cell_type": "code",
   "execution_count": 61,
   "id": "f0cdf4b4",
   "metadata": {},
   "outputs": [
    {
     "ename": "NameError",
     "evalue": "name 'compare_pop' is not defined",
     "output_type": "error",
     "traceback": [
      "\u001b[0;31m---------------------------------------------------------------------------\u001b[0m",
      "\u001b[0;31mNameError\u001b[0m                                 Traceback (most recent call last)",
      "Cell \u001b[0;32mIn [61], line 1\u001b[0m\n\u001b[0;32m----> 1\u001b[0m ax \u001b[38;5;241m=\u001b[39m \u001b[43mcompare_pop\u001b[49m\u001b[38;5;241m.\u001b[39mplot(ylabel\u001b[38;5;241m=\u001b[39m\u001b[38;5;124m'\u001b[39m\u001b[38;5;124mPopulation-Adj. Cases\u001b[39m\u001b[38;5;124m'\u001b[39m,title\u001b[38;5;241m=\u001b[39m\u001b[38;5;124m'\u001b[39m\u001b[38;5;124m# of Cases Per 100K People\u001b[39m\u001b[38;5;124m'\u001b[39m);\n\u001b[1;32m      2\u001b[0m ax\u001b[38;5;241m.\u001b[39myaxis\u001b[38;5;241m.\u001b[39mset_major_formatter(str_fmt)\n",
      "\u001b[0;31mNameError\u001b[0m: name 'compare_pop' is not defined"
     ]
    }
   ],
   "source": [
    "ax = compare_pop.plot(ylabel='Population-Adj. Cases',title='# of Cases Per 100K People');\n",
    "ax.yaxis.set_major_formatter(str_fmt)"
   ]
  },
  {
   "cell_type": "markdown",
   "id": "55f47cd4",
   "metadata": {},
   "source": [
    "- Fascinating! Once we control for population, we can see that Kentucky generally had a HIGHER cumulative number of Covid cases per 100,000 people."
   ]
  },
  {
   "cell_type": "code",
   "execution_count": null,
   "id": "5bba0cd3",
   "metadata": {},
   "outputs": [],
   "source": []
  }
 ],
 "metadata": {
  "kernelspec": {
   "display_name": "Python (dojo-env)",
   "language": "python",
   "name": "dojo-env"
  },
  "language_info": {
   "codemirror_mode": {
    "name": "ipython",
    "version": 3
   },
   "file_extension": ".py",
   "mimetype": "text/x-python",
   "name": "python",
   "nbconvert_exporter": "python",
   "pygments_lexer": "ipython3",
   "version": "3.9.15"
  },
  "toc": {
   "base_numbering": 1,
   "nav_menu": {},
   "number_sections": false,
   "sideBar": true,
   "skip_h1_title": false,
   "title_cell": "Table of Contents",
   "title_sidebar": "Contents",
   "toc_cell": false,
   "toc_position": {},
   "toc_section_display": true,
   "toc_window_display": false
  }
 },
 "nbformat": 4,
 "nbformat_minor": 5
}
